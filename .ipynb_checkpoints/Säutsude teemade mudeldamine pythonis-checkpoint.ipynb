{
 "cells": [
  {
   "cell_type": "markdown",
   "metadata": {},
   "source": [
    "# Säutsud pythonis"
   ]
  },
  {
   "cell_type": "markdown",
   "metadata": {},
   "source": [
    "## Sissejuhatus"
   ]
  },
  {
   "cell_type": "markdown",
   "metadata": {},
   "source": [
    "Käesoleva kirjatüki eesmärk on mudeldada pythonis säutsude teemasid. Selleks tehakse järgnevat:\n",
    " - laetakse twitterist säutsud alla\n",
    " - säutsud puhastatakse\n",
    " - ehitatakse teemadem udelid kasutades _Latent Dirichlet allocation_ algoritmi\n",
    " - tulemused visualiseeritakse\n",
    "\n",
    "Esmalt defineerime hunniku funktsioone, mis teevad elu lihtsamaks."
   ]
  },
  {
   "cell_type": "code",
   "execution_count": 1,
   "metadata": {
    "collapsed": true
   },
   "outputs": [],
   "source": [
    "def teksti_eraldaja(tweedid):\n",
    "    \"\"\"eraldab säutsude listist teksti. \n",
    "    sisend: säutsude metaandmete list, mis on tulnud funktsioonist allalaadija\n",
    "    väljund: säutsude tekstide list\"\"\"\n",
    "    tekst=[]\n",
    "    for i in range(len(tweedid)):\n",
    "        tekst.append(tweedid[i]['text'])  \n",
    "    return tekst   \n",
    "\n",
    "import math as math\n",
    "def allalaadija(märksõna, kogus, keel='en'):\n",
    "    \"\"\"laeb twitterist säutsud alla\n",
    "    sisend: -märksõna: otsisõna, mille kohta otsime twitterist säutsusid\n",
    "    -kogus: mitu säutsu tahame. Kogus on 100 säutsu täpsusega (nt kogus=101, korjab 200 säutsu, kogus=99 korja 100 säutsu\n",
    "    -keel: mis keelseid säutsusid tahame)\n",
    "    väljund: - list tweetide andmetega\"\"\"\n",
    "    loopideArv=math.ceil(kogus/100)\n",
    "    print(\"Tsükkel nr:\", str(1)+ \", veel tsükleid:\",str(loopideArv-1))\n",
    "    tweedid=twitter.search(q=märksõna,lang=keel, count=100)\n",
    "    tulem=tweedid['statuses']\n",
    "    minid=min_id(tweedid)\n",
    "    for i in range(loopideArv-1):\n",
    "        print(\"Tsükkel nr:\", str(i+2)+ \", veel tsükleid:\",str(loopideArv-i-2))\n",
    "        uuedtweedid=twitter.search(q=märksõna,lang=keel, count=100, \n",
    "                                   max_id=minid)\n",
    "        tulem+=uuedtweedid['statuses']\n",
    "        minid=min_id(uuedtweedid)\n",
    "    return tulem\n",
    "\n",
    "def min_id(tweedid):\n",
    "    \"\"\"abifunktsioon funktsioonile allalaadija, mis leiab allalaaditud tweetide id miinimumi, selle saab\n",
    "    anda sisendiks järgmisele loobile, et võtta tweedid, mille id on väiksem kui siin leitud id\n",
    "    sisend: - tweetide sõnastik\n",
    "    väljund: - tweetide sõnastiku id miinimum\"\"\"\n",
    "    ids=[]\n",
    "    for i in range(len(tweedid['statuses'])):\n",
    "        ids.append(tweedid['statuses'][i]['id'])\n",
    "    return min(ids)\n",
    "\n",
    "from nltk.tokenize import RegexpTokenizer\n",
    "import re\n",
    "def tokeniseerija(tekstlist):\n",
    "    \"\"\"funktsioon, mis võtab sisendiks teksti listi ning teeb neist tokenid (iga sõna eraldi listi elemendiks) ning \n",
    "    eemaldab numbrid, kirjavahemärgid, lingid ja twitteri kasutajanimed ning teeb teksti väiketähtedeks\n",
    "    sisend: - tekstilist (iga lause on 1 string)\n",
    "    väljund: - tokenite list\"\"\"\n",
    "    tokenizer = RegexpTokenizer(r'\\w+')\n",
    "    tokens=[]\n",
    "    for i in range(len(tekstlist)):\n",
    "        #eemaldame kasutajanimed ja lingid, numbrid ja kirjavahemärgid\n",
    "        abimuutuja=re.sub(r'(^https?:\\/\\/.*[\\r\\n]*)|(@[A-Za-z0-9]+)|([0-9])|(\\w+:\\/\\/\\S+)', '', tekstlist[i].lower(), \n",
    "                          flags=re.MULTILINE)\n",
    "        tokens.append(tokenizer.tokenize(abimuutuja))\n",
    "    return tokens\n",
    "\n",
    "from stop_words import get_stop_words\n",
    "def puhastaja(tokenslist, myralist):\n",
    "    \"\"\"funktsioon, mis puhastab tokenite listi stoppsõnadest ja kasutaja poolt määratud sõnadest ning sõnadest, mille\n",
    "    pikkus on alla 3\n",
    "    sisend: - tokenslist: tokenite list\n",
    "    - myralist: list sõnadest, mida tahetakse veel eemaldada\n",
    "    väljund: - tokenite list, kus eelnev on eemaldatud\"\"\"\n",
    "    stopsonad = get_stop_words('en')#inglise keel stoppsõnad\n",
    "    stopsonad.extend(myralist)#paneme veel juurde\n",
    "    #eemaldame stoppsõnad ja sõnad alla 2 täheärgi\n",
    "    tokens_stopped=[]\n",
    "    for j in range(len(tokenslist)):\n",
    "        tokens_stopped.append([i for i in tokenslist[j] if not i in stopsonad and len(i)>2])   \n",
    "    return tokens_stopped\n",
    "\n",
    "from nltk.stem.porter import PorterStemmer\n",
    "def stemming(tokens):\n",
    "    \"\"\"funktsioon, mis normaliseerib sõnad lõigates maha käände- ja pöördelõpud.\n",
    "    sisend: - tokens: tokenite list\n",
    "    väljudn: - normaliseeritud sõnade list\"\"\"\n",
    "    p_stemmer = PorterStemmer()\n",
    "    stemmed=[]\n",
    "    for j in range(len(tokens)):\n",
    "        stemmed.append([p_stemmer.stem(i) for i in tokens[j]]) \n",
    "    return stemmed\n",
    "\n",
    "def sonede_dict(sonedelist):\n",
    "    \"\"\"funktsioon, mis paneb ühe listi tokensid kokku üheks stringiks\n",
    "    sisend: -tokensite listid\n",
    "    väljund: -tokensite listid, kus iga list on üks tokensite string\"\"\"\n",
    "    token_dict={}\n",
    "    for i in range(len(sonedelist)):\n",
    "        token_dict[i] = ' '.join(sonedelist[i])\n",
    "    return token_dict\n",
    "\n",
    "from __future__ import print_function\n",
    "def print_top_sonad(model, feature_names, n_top_words):\n",
    "    \"\"\"funktsioon, mis prindin top sõnad iga teema kohta\n",
    "    sisend: - model: lda mudel\n",
    "    -feature_names: doc-term maatriksist sõnade nimed\n",
    "    n_top_words: kui mitu top sõna iga teema kohta kuvatakse\n",
    "    väljund: -prindib teema ja selle top sõnad\"\"\"\n",
    "    for topic_idx, topic in enumerate(model.components_):\n",
    "        print(\"Teema #%d:\" % topic_idx)\n",
    "        print(\" \".join([feature_names[i]\n",
    "                        for i in topic.argsort()[:-n_top_words - 1:-1]]))\n",
    "    print()\n",
    "    \n",
    "import matplotlib.pyplot as plt\n",
    "import numpy as np\n",
    "def teema_doku_plot(doc_topic,teemade_arv, doc_n, teemad):\n",
    "    \"\"\"funktsioon, mis joonistab plotid, kus x-teljel on teema ja y-teljel teema kaal. Joonistab tõenäosuse jagunemise iga tweeti kohta\n",
    "    sisend: - doc_topic: dokumendi teema array\n",
    "    - teemade_arv: mitu teemat mudelis on\n",
    "    - doc_n: dokumentide indeksid listi kujuna, mille kohta tahame ploti joonistada\n",
    "    -teemad: teemade list\n",
    "    Väljund: -plot\"\"\"\n",
    "    %matplotlib inline\n",
    "    f, ax= plt.subplots(len(doc_n), 1, figsize=(8, 6), sharex=True)\n",
    "    for i, k in enumerate(doc_n):\n",
    "        #normaliseerin iga rea, kuna muidu läheb üle 1\n",
    "        ax[i].stem(doc_topic[k,:]/(sum(doc_topic[k,:])),\n",
    "                 linefmt='r-', markerfmt='ro', basefmt='w-')\n",
    "        ax[i].set_xlim(-0.1, teemade_arv-0.9)\n",
    "        ax[i].set_ylim(0, 1)\n",
    "        ax[i].set_xticks(np.arange(0, teemade_arv, 1)) \n",
    "        ax[i].set_xticklabels(teemad)\n",
    "        ax[i].set_axis_bgcolor((1,0.98,0.98))\n",
    "        ax[i].set_ylabel(\"Prob\")\n",
    "        ax[i].set_title(\"Säuts {}\".format(k))\n",
    "    ax[len(doc_n)-1].set_xlabel(\"Teema\")\n",
    "    plt.tight_layout()\n",
    "    plt.show()"
   ]
  },
  {
   "cell_type": "markdown",
   "metadata": {},
   "source": [
    "## Andmete korjamine "
   ]
  },
  {
   "cell_type": "markdown",
   "metadata": {},
   "source": [
    "Andmete korjamiseks kasutan eelloodud funktsioone ja paketti twython."
   ]
  },
  {
   "cell_type": "code",
   "execution_count": 2,
   "metadata": {
    "collapsed": true
   },
   "outputs": [],
   "source": [
    "from twython import Twython\n",
    "#ühendus twitteriga, keyde ja salasõnade jaoks rega enda app: https://dev.twitter.com/ \n",
    "#ja loe twythoni kohta http://twython.readthedocs.io/en/latest/#\n",
    "twitter = Twython('sinu_api_vaartus','sinu_api_vaartus','sinu_api_vaartus', 'sinu_api_vaartus')"
   ]
  },
  {
   "cell_type": "code",
   "execution_count": 6,
   "metadata": {
    "collapsed": false
   },
   "outputs": [],
   "source": [
    "estonia=allalaadija('estonia', 2000)\n",
    "latvia=allalaadija('latvia', 2000)\n",
    "#salvestame, et igal korral ei peaks uue päringu tegema\n",
    "import json\n",
    "json.dump(estonia, open(\"estonia.txt\",'w'))\n",
    "json.dump(latvia, open(\"latvia.txt\",'w'))"
   ]
  },
  {
   "cell_type": "code",
   "execution_count": 5,
   "metadata": {
    "collapsed": false
   },
   "outputs": [],
   "source": [
    "#laeme salvestatud failid üles\n",
    "estonia = json.load(open(\"estonia.txt\"))\n",
    "latvia=json.load(open(\"latvia.txt\"))"
   ]
  },
  {
   "cell_type": "markdown",
   "metadata": {},
   "source": [
    "## Andmete töötlus ja puhastamine "
   ]
  },
  {
   "cell_type": "code",
   "execution_count": 7,
   "metadata": {
    "collapsed": true
   },
   "outputs": [],
   "source": [
    "#eraldame teksti\n",
    "estoniatkst=teksti_eraldaja(estonia)\n",
    "latviatkst=teksti_eraldaja(latvia)"
   ]
  },
  {
   "cell_type": "code",
   "execution_count": 8,
   "metadata": {
    "collapsed": true
   },
   "outputs": [],
   "source": [
    "#tokeniseerime\n",
    "esttoken=tokeniseerija(estoniatkst)\n",
    "lattoken=tokeniseerija(latviatkst)"
   ]
  },
  {
   "cell_type": "code",
   "execution_count": 9,
   "metadata": {
    "collapsed": true
   },
   "outputs": [],
   "source": [
    "#puhastame\n",
    "estpuhas=puhastaja(esttoken,['estonia'])\n",
    "latpuhas=puhastaja(lattoken,['latvia'])"
   ]
  },
  {
   "cell_type": "code",
   "execution_count": 10,
   "metadata": {
    "collapsed": true
   },
   "outputs": [],
   "source": [
    "#stemming\n",
    "eststem=stemming(estpuhas)\n",
    "latstem=stemming(latpuhas)"
   ]
  },
  {
   "cell_type": "markdown",
   "metadata": {},
   "source": [
    "## Mudeli ehitamine"
   ]
  },
  {
   "cell_type": "markdown",
   "metadata": {},
   "source": [
    "Mudeli ehitamiseks katsetame erinevaid python pakette. Esmalt pakett gensim."
   ]
  },
  {
   "cell_type": "code",
   "execution_count": 11,
   "metadata": {
    "collapsed": false
   },
   "outputs": [
    {
     "name": "stderr",
     "output_type": "stream",
     "text": [
      "C:\\Users\\Risto\\Anaconda3\\lib\\site-packages\\gensim\\utils.py:840: UserWarning: detected Windows; aliasing chunkize to chunkize_serial\n",
      "  warnings.warn(\"detected Windows; aliasing chunkize to chunkize_serial\")\n",
      "C:\\Users\\Risto\\Anaconda3\\lib\\site-packages\\gensim\\utils.py:1015: UserWarning: Pattern library is not installed, lemmatization won't be available.\n",
      "  warnings.warn(\"Pattern library is not installed, lemmatization won't be available.\")\n"
     ]
    }
   ],
   "source": [
    "from gensim.models.coherencemodel import CoherenceModel\n",
    "from gensim.models.ldamodel import LdaModel\n",
    "from gensim.corpora.dictionary import Dictionary\n",
    "import warnings\n",
    "warnings.filterwarnings('ignore')#et igasugu hoiatusi siin ei kuvaks"
   ]
  },
  {
   "cell_type": "markdown",
   "metadata": {},
   "source": [
    "Määrame teemade arvu. Selle jaoks kasutasin interaktiivseid visualiseeringuid (vt allapoole), kuni leidsin maksimaalse arvu teemasid, kus need joonisel ei kattunud. See pole küll teab mis ainuõige meetod (teemade arvu määramine ongi keeruline), kuid on üheks võimaluseks. Käesoleval juhul on mõlemat andmeseti puhul teemade arvuks määratud kolm."
   ]
  },
  {
   "cell_type": "code",
   "execution_count": 12,
   "metadata": {
    "collapsed": true
   },
   "outputs": [],
   "source": [
    "n_topics_est=3\n",
    "n_topics_lat=3"
   ]
  },
  {
   "cell_type": "code",
   "execution_count": 13,
   "metadata": {
    "collapsed": true
   },
   "outputs": [],
   "source": [
    "estdictionary = Dictionary(eststem)\n",
    "estcorpus = [estdictionary.doc2bow(text) for text in eststem]\n",
    "#mudel\n",
    "estmudel = LdaModel(corpus=estcorpus, id2word=estdictionary, \n",
    "                    iterations=500, num_topics=n_topics_est, random_state=1)"
   ]
  },
  {
   "cell_type": "markdown",
   "metadata": {},
   "source": [
    "Mudeli eripäraks on, et ta ei anna ette, mis teemad tekstis on. Ta annab vihjed, mis teema olla võib näidates ära sõnad, mis teemat kõige paremini esindavad."
   ]
  },
  {
   "cell_type": "code",
   "execution_count": 14,
   "metadata": {
    "collapsed": false
   },
   "outputs": [
    {
     "data": {
      "text/plain": [
       "[(0, '0.014*\"nato\" + 0.013*\"poland\" + 0.013*\"amp\"'),\n",
       " (1, '0.014*\"amp\" + 0.013*\"baltic\" + 0.013*\"countri\"'),\n",
       " (2, '0.020*\"tallinn\" + 0.013*\"russian\" + 0.012*\"via\"')]"
      ]
     },
     "execution_count": 14,
     "metadata": {},
     "output_type": "execute_result"
    }
   ],
   "source": [
    "#teemad sõnadega\n",
    "estmudel.print_topics(num_topics=3, num_words=3)"
   ]
  },
  {
   "cell_type": "markdown",
   "metadata": {},
   "source": [
    "Tundub, et esimene tema on seotud NATO, teine Baltikumi ning kolmas Tallinnaga. Teemade leidmine ja sõnastamine on suhteliselt subjektiivne, tulemus sõltub nii teksti hulga suurusest kui ka mudeli ehitaja taustateadmistest. Seega võib samade andmete puhul saada erinevaid tulemusi. Visualiseerime tulemused LDAvis paketiga. Iga teema kohta on joonisel \"mummu\" ning jooniselt on näha, mis sõnad seda teemat paremini iseloomustavad ning samuti, kuidas teema teiste teemade suhtes paikneb."
   ]
  },
  {
   "cell_type": "code",
   "execution_count": 15,
   "metadata": {
    "collapsed": false
   },
   "outputs": [
    {
     "name": "stderr",
     "output_type": "stream",
     "text": [
      "C:\\Users\\Risto\\Anaconda3\\lib\\site-packages\\funcy\\decorators.py:56: DeprecationWarning: inspect.getargspec() is deprecated, use inspect.signature() instead\n",
      "  spec = inspect.getargspec(func)\n",
      "C:\\Users\\Risto\\Anaconda3\\lib\\site-packages\\funcy\\decorators.py:56: DeprecationWarning: inspect.getargspec() is deprecated, use inspect.signature() instead\n",
      "  spec = inspect.getargspec(func)\n",
      "C:\\Users\\Risto\\Anaconda3\\lib\\site-packages\\funcy\\decorators.py:56: DeprecationWarning: inspect.getargspec() is deprecated, use inspect.signature() instead\n",
      "  spec = inspect.getargspec(func)\n",
      "C:\\Users\\Risto\\Anaconda3\\lib\\site-packages\\funcy\\decorators.py:56: DeprecationWarning: inspect.getargspec() is deprecated, use inspect.signature() instead\n",
      "  spec = inspect.getargspec(func)\n",
      "C:\\Users\\Risto\\Anaconda3\\lib\\site-packages\\funcy\\decorators.py:56: DeprecationWarning: inspect.getargspec() is deprecated, use inspect.signature() instead\n",
      "  spec = inspect.getargspec(func)\n",
      "C:\\Users\\Risto\\Anaconda3\\lib\\site-packages\\funcy\\decorators.py:56: DeprecationWarning: inspect.getargspec() is deprecated, use inspect.signature() instead\n",
      "  spec = inspect.getargspec(func)\n"
     ]
    }
   ],
   "source": [
    "#interaktiivne visualiseerimine\n",
    "import pyLDAvis.gensim\n",
    "from gensim.models.coherencemodel import CoherenceModel\n",
    "estldavis=pyLDAvis.gensim.prepare(estmudel, estcorpus, estdictionary)"
   ]
  },
  {
   "cell_type": "code",
   "execution_count": 16,
   "metadata": {
    "collapsed": false
   },
   "outputs": [
    {
     "data": {
      "text/html": [
       "\n",
       "<link rel=\"stylesheet\" type=\"text/css\" href=\"https://cdn.rawgit.com/bmabey/pyLDAvis/files/ldavis.v1.0.0.css\">\n",
       "\n",
       "\n",
       "<div id=\"ldavis_el522021317529142805381422993\"></div>\n",
       "<script type=\"text/javascript\">\n",
       "\n",
       "var ldavis_el522021317529142805381422993_data = {\"lambda.step\": 0.01, \"topic.order\": [1, 3, 2], \"R\": 30, \"tinfo\": {\"loglift\": [30.0, 29.0, 28.0, 27.0, 26.0, 25.0, 24.0, 23.0, 22.0, 21.0, 20.0, 19.0, 18.0, 17.0, 16.0, 15.0, 14.0, 13.0, 12.0, 11.0, 10.0, 9.0, 8.0, 7.0, 6.0, 5.0, 4.0, 3.0, 2.0, 1.0, 0.922, 0.9189, 0.9176, 0.9169, 0.9168, 0.9151, 0.9148, 0.9144, 0.9127, 0.906, 0.9059, 0.9052, 0.9045, 0.9041, 0.904, 0.9028, 0.9021, 0.9021, 0.9018, 0.9016, 0.9012, 0.9005, 0.8991, 0.8982, 0.8975, 0.8973, 0.8964, 0.8963, 0.8962, 0.8947, 0.8759, 0.8711, 0.8802, 0.8564, 0.8581, 0.8439, 0.8795, 0.8117, 0.8769, 0.8756, 0.8734, 0.766, 0.7355, 0.7978, 0.7184, 0.7237, 0.7401, 0.6509, 0.6888, 0.8376, 0.4854, 0.6765, 0.5931, 0.1144, 0.4764, 0.5918, 0.3829, 0.5829, 0.3927, 0.3502, -0.0363, 0.0483, -0.0882, -0.2769, -0.8194, -0.2116, 1.0724, 1.0683, 1.068, 1.0661, 1.0613, 1.0612, 1.0516, 1.0502, 1.0495, 1.0493, 1.0458, 1.0418, 1.0413, 1.0372, 1.037, 1.0354, 1.035, 1.0316, 1.0301, 1.0263, 1.026, 1.0259, 1.0235, 1.0213, 1.0188, 1.018, 1.0167, 1.0157, 1.015, 1.0146, 1.0118, 0.986, 0.9471, 0.9745, 0.9295, 0.9845, 0.8962, 0.8221, 0.9565, 0.9825, 0.8377, 0.8498, 0.8588, 0.8934, 0.8041, 0.8788, 0.5154, 0.8605, 0.8563, 0.7792, 0.8612, 0.4192, 0.6416, 0.7241, -0.0608, -0.4427, 0.4973, 0.4922, 0.7059, 0.1151, -0.3221, 0.1885, 1.1803, 1.1794, 1.1794, 1.1789, 1.178, 1.1779, 1.1594, 1.1567, 1.1503, 1.1498, 1.1416, 1.1394, 1.139, 1.139, 1.1381, 1.1364, 1.1355, 1.1332, 1.1298, 1.1293, 1.1283, 1.1281, 1.1268, 1.1266, 1.1239, 1.1237, 1.1216, 1.1214, 1.1197, 1.1103, 1.107, 1.1024, 1.0894, 1.0364, 1.0969, 0.9399, 0.8475, 0.8219, 0.8167, 1.0475, 0.7509, 0.6675, 0.6938, 0.8467, 1.0787, 1.0742, 1.001, 0.7247, 0.6289, 0.2122, 0.4345, 0.3814, -0.024, 0.83, 0.3862, 0.3467], \"Freq\": [62.0, 81.0, 56.0, 55.0, 66.0, 62.0, 72.0, 65.0, 72.0, 76.0, 66.0, 76.0, 52.0, 68.0, 33.0, 33.0, 81.0, 79.0, 34.0, 84.0, 87.0, 83.0, 30.0, 38.0, 82.0, 28.0, 28.0, 28.0, 179.0, 48.0, 14.965568607529919, 15.706365146761668, 12.549834574048235, 12.540696478674956, 12.54013344269853, 12.519495780932141, 12.515446440876401, 58.67234196708609, 12.489793723536769, 12.409260712608098, 12.407183504901209, 10.073350377365562, 14.71303253909212, 10.063366773589829, 10.0620329306067, 10.051087212375993, 10.043733624100758, 10.043434985751249, 76.45534130302235, 61.81860178475113, 9.26322232266697, 60.98446025779111, 11.553436031563262, 10.005902275541699, 9.229543610312861, 9.228326882714208, 9.219656669882593, 9.21896027063632, 10.753825368771698, 29.925663277281277, 60.31604084399868, 66.04558512719818, 21.944160228736532, 61.352382778869554, 43.69584672827721, 67.79500873488996, 18.906962472283727, 67.8616675409068, 17.35135660177018, 17.329864612129008, 17.29273213897073, 70.91442075792695, 67.67638135706417, 32.82663731043912, 67.84328082199501, 62.21997317787754, 41.002061437339506, 68.43656176651201, 40.14132105430492, 18.163112503927042, 77.39871369465912, 25.450086846880552, 28.12823453420527, 72.93927062767364, 29.680608267027498, 24.02446161994888, 28.51296260169388, 22.11245769149764, 25.48248193413368, 26.24662749097171, 34.29016289462733, 29.932180443083126, 28.327951926466525, 29.089833455942923, 29.937256822536146, 27.28859910372004, 18.01550019267258, 17.940699695621362, 12.228632534867389, 12.204812799658608, 19.42881814530802, 12.14286661543159, 24.038603822660058, 8.002995002464225, 8.797283133155434, 8.794851734849399, 7.966171063457626, 21.414914958511947, 21.40441851755812, 7.105732619475162, 28.419664331063455, 21.27454627289062, 8.665495696737041, 18.05008685397214, 6.270035827725808, 6.245684536855872, 6.244044516909418, 6.2430313938018465, 6.227609260146444, 19.41007904001791, 5.422597250265153, 6.192365905357281, 6.1842368859451415, 5.40535464635506, 5.4012530895810835, 23.12858671163332, 13.069032842123018, 23.2063342109741, 60.45616813875354, 20.704116642600294, 28.224594621723213, 10.46168186839233, 30.040222047452506, 62.535379510913906, 13.072462027936954, 9.703244261027912, 34.08938212721492, 27.284494346429582, 25.630001582009587, 19.71096285308888, 33.52663017614051, 20.769329481704276, 97.47707280783827, 19.04982520351887, 18.9662746690992, 24.200927404349837, 17.74952699358174, 37.16724176355601, 25.20564674273258, 21.67696182966373, 38.411677167094794, 35.806861130107386, 21.758368690931675, 21.643281386229887, 20.1542937497546, 21.872940820221768, 20.939157890470337, 20.117366935117918, 29.12612151295235, 27.484000254941595, 32.33324836571295, 32.319479256687075, 27.446680251967443, 27.441404637815346, 32.47443790932248, 12.646488802431778, 10.20964782613984, 10.989364098203495, 8.564893075821118, 8.545967227328775, 8.54288600739672, 8.54285917877798, 8.535630010228195, 9.294604997900768, 8.512443543067338, 8.493935916529818, 9.23594744082641, 8.460831769893272, 8.452595809495701, 7.683669270188252, 7.6730132441472865, 51.34922100402689, 8.41639637801873, 6.884275295353303, 6.8696844422596435, 50.37617814997568, 57.10191829410767, 9.815270613832316, 14.313547376039317, 20.938415953769677, 33.98152884833614, 44.18207416336644, 12.646791151042747, 35.70840575293885, 58.163745533413994, 55.64211294859501, 51.55483537078689, 13.476657894206467, 51.400788564367446, 58.643153387544515, 52.36252948290057, 27.16447879286984, 10.957774461034813, 10.940978738455618, 13.501498152292937, 28.62041500148489, 33.45146746465971, 63.05351329450246, 40.82019381589568, 40.82024386233738, 51.996865390620854, 15.953899146996465, 17.79104653323147, 15.235176458514525], \"Category\": [\"Default\", \"Default\", \"Default\", \"Default\", \"Default\", \"Default\", \"Default\", \"Default\", \"Default\", \"Default\", \"Default\", \"Default\", \"Default\", \"Default\", \"Default\", \"Default\", \"Default\", \"Default\", \"Default\", \"Default\", \"Default\", \"Default\", \"Default\", \"Default\", \"Default\", \"Default\", \"Default\", \"Default\", \"Default\", \"Default\", \"Topic1\", \"Topic1\", \"Topic1\", \"Topic1\", \"Topic1\", \"Topic1\", \"Topic1\", \"Topic1\", \"Topic1\", \"Topic1\", \"Topic1\", \"Topic1\", \"Topic1\", \"Topic1\", \"Topic1\", \"Topic1\", \"Topic1\", \"Topic1\", \"Topic1\", \"Topic1\", \"Topic1\", \"Topic1\", \"Topic1\", \"Topic1\", \"Topic1\", \"Topic1\", \"Topic1\", \"Topic1\", \"Topic1\", \"Topic1\", \"Topic1\", \"Topic1\", \"Topic1\", \"Topic1\", \"Topic1\", \"Topic1\", \"Topic1\", \"Topic1\", \"Topic1\", \"Topic1\", \"Topic1\", \"Topic1\", \"Topic1\", \"Topic1\", \"Topic1\", \"Topic1\", \"Topic1\", \"Topic1\", \"Topic1\", \"Topic1\", \"Topic1\", \"Topic1\", \"Topic1\", \"Topic1\", \"Topic1\", \"Topic1\", \"Topic1\", \"Topic1\", \"Topic1\", \"Topic1\", \"Topic1\", \"Topic1\", \"Topic1\", \"Topic1\", \"Topic1\", \"Topic1\", \"Topic2\", \"Topic2\", \"Topic2\", \"Topic2\", \"Topic2\", \"Topic2\", \"Topic2\", \"Topic2\", \"Topic2\", \"Topic2\", \"Topic2\", \"Topic2\", \"Topic2\", \"Topic2\", \"Topic2\", \"Topic2\", \"Topic2\", \"Topic2\", \"Topic2\", \"Topic2\", \"Topic2\", \"Topic2\", \"Topic2\", \"Topic2\", \"Topic2\", \"Topic2\", \"Topic2\", \"Topic2\", \"Topic2\", \"Topic2\", \"Topic2\", \"Topic2\", \"Topic2\", \"Topic2\", \"Topic2\", \"Topic2\", \"Topic2\", \"Topic2\", \"Topic2\", \"Topic2\", \"Topic2\", \"Topic2\", \"Topic2\", \"Topic2\", \"Topic2\", \"Topic2\", \"Topic2\", \"Topic2\", \"Topic2\", \"Topic2\", \"Topic2\", \"Topic2\", \"Topic2\", \"Topic2\", \"Topic2\", \"Topic2\", \"Topic2\", \"Topic2\", \"Topic2\", \"Topic2\", \"Topic2\", \"Topic2\", \"Topic3\", \"Topic3\", \"Topic3\", \"Topic3\", \"Topic3\", \"Topic3\", \"Topic3\", \"Topic3\", \"Topic3\", \"Topic3\", \"Topic3\", \"Topic3\", \"Topic3\", \"Topic3\", \"Topic3\", \"Topic3\", \"Topic3\", \"Topic3\", \"Topic3\", \"Topic3\", \"Topic3\", \"Topic3\", \"Topic3\", \"Topic3\", \"Topic3\", \"Topic3\", \"Topic3\", \"Topic3\", \"Topic3\", \"Topic3\", \"Topic3\", \"Topic3\", \"Topic3\", \"Topic3\", \"Topic3\", \"Topic3\", \"Topic3\", \"Topic3\", \"Topic3\", \"Topic3\", \"Topic3\", \"Topic3\", \"Topic3\", \"Topic3\", \"Topic3\", \"Topic3\", \"Topic3\", \"Topic3\", \"Topic3\", \"Topic3\", \"Topic3\", \"Topic3\", \"Topic3\", \"Topic3\", \"Topic3\", \"Topic3\"], \"Term\": [\"watch\", \"poland\", \"total\", \"lo\", \"target\", \"_org\", \"usa\", \"defens\", \"via\", \"plz\", \"member\", \"fernandez\", \"don\", \"spend\", \"neutral\", \"meddl\", \"javier\", \"sign\", \"joke\", \"russian\", \"help\", \"countri\", \"network\", \"soviet\", \"lithuania\", \"decid\", \"electr\", \"disconnect\", \"tallinn\", \"hand\", \"enjoy\", \"sri\", \"luck\", \"pre\", \"albania\", \"marri\", \"hug\", \"_org\", \"soro\", \"crimin\", \"liberia\", \"robledo\", \"lanka\", \"hurtado\", \"consid\", \"khaliavin\", \"fenero\", \"smart\", \"poland\", \"target\", \"export\", \"defens\", \"karula\", \"diaz\", \"malmo\", \"reagent\", \"khlexpans\", \"hamburg\", \"forecast\", \"secur\", \"member\", \"usa\", \"step\", \"spend\", \"hand\", \"plz\", \"level\", \"sign\", \"io\", \"authent\", \"android\", \"help\", \"fur\", \"digit\", \"farm\", \"greec\", \"love\", \"end\", \"finland\", \"send\", \"nato\", \"say\", \"nation\", \"amp\", \"new\", \"estonian\", \"take\", \"market\", \"shop\", \"onlin\", \"russia\", \"good\", \"javier\", \"baltic\", \"tallinn\", \"world\", \"mint\", \"condit\", \"roundtrip\", \"klm\", \"chronolog\", \"royal\", \"drive\", \"circus\", \"amb\", \"britain\", \"combat\", \"minibus\", \"self\", \"timelin\", \"cole\", \"roam\", \"parliament\", \"collect\", \"protocol\", \"_rblx\", \"andrew\", \"laul\", \"ten\", \"sinc\", \"tuesday\", \"facelift\", \"labour\", \"sandov\", \"met\", \"set\", \"eurovis\", \"street\", \"via\", \"journal\", \"attack\", \"offici\", \"bring\", \"russian\", \"fighter\", \"join\", \"old\", \"cyber\", \"yesterday\", \"use\", \"news\", \"tini\", \"tallinn\", \"stand\", \"tall\", \"song\", \"mix\", \"good\", \"complet\", \"right\", \"nato\", \"amp\", \"top\", \"now\", \"abus\", \"affair\", \"world\", \"take\", \"network\", \"decid\", \"neutral\", \"meddl\", \"disconnect\", \"electr\", \"joke\", \"benefit\", \"photograph\", \"efsi\", \"ladi\", \"manic\", \"june\", \"men\", \"emh\", \"school\", \"eeduc\", \"nest\", \"hurt\", \"pisa\", \"stork\", \"airport\", \"manicsin\", \"total\", \"valgamaa\", \"walker\", \"thala\", \"lo\", \"watch\", \"tonight\", \"black\", \"http\", \"soviet\", \"don\", \"bulgaria\", \"even\", \"countri\", \"lithuania\", \"fernandez\", \"itali\", \"javier\", \"baltic\", \"latvia\", \"europ\", \"hello\", \"around\", \"peopl\", \"state\", \"affair\", \"amp\", \"world\", \"russia\", \"tallinn\", \"best\", \"day\", \"travel\"], \"Total\": [62.0, 81.0, 56.0, 55.0, 66.0, 62.0, 72.0, 65.0, 72.0, 76.0, 66.0, 76.0, 52.0, 68.0, 33.0, 33.0, 81.0, 79.0, 34.0, 84.0, 87.0, 83.0, 30.0, 38.0, 82.0, 28.0, 28.0, 28.0, 179.0, 48.0, 15.719833677006427, 16.549353301430617, 13.239829307550638, 13.239920675198384, 13.240089073358982, 13.240642713129915, 13.24018233773269, 62.096335146261, 13.241201967975579, 13.244108941995735, 13.244104428445489, 10.76004671694232, 15.727028159351095, 10.761035055583873, 10.760889112197875, 10.761467680541015, 10.76139313978247, 10.761689645655327, 81.94099252910908, 66.27055186934611, 9.933906131540104, 65.44539621925735, 12.416972022718088, 10.762731062992515, 9.934708089117407, 9.935342606193512, 9.935162665936115, 9.935672046771685, 11.591112825761796, 32.302829169871785, 66.3447012415565, 72.99476180237187, 24.03208894556904, 68.8084317975363, 48.925488335040995, 76.99380869594661, 20.721827311125995, 79.58936382700341, 19.066232277956427, 19.066962458582076, 19.068698893690268, 87.06291757196564, 85.65749005055086, 39.041544991200254, 87.34772996008006, 79.68621850284322, 51.66099002262187, 94.27091651614674, 53.23498991153701, 20.758640930034943, 125.79847392223108, 34.16969532952799, 41.049821554847675, 171.7996450522835, 48.68006608855352, 35.10731941132923, 51.344666070531616, 32.60147310501391, 45.44326667331431, 48.83475403352993, 93.90804569869215, 75.32151217049088, 81.71442870027695, 101.33620342562685, 179.41119502099525, 89.04795081008605, 18.998862739942016, 18.996019889616218, 12.951988168325201, 12.951128166998592, 20.717419238109652, 12.948661867566997, 25.882261821858567, 8.6288657856438, 9.491514578442835, 9.491207083411455, 8.627375549068482, 23.28481362187092, 23.28464752801252, 7.762027859804325, 31.05043737792976, 23.279536347468106, 9.48592268425173, 19.826633138670413, 6.897894723938913, 6.897057435467973, 6.89696209874657, 6.8968037069329595, 6.896103401479635, 21.542068770870184, 6.033150540413172, 6.894910328819079, 6.894703306333952, 6.032455855007785, 6.0322121236205755, 25.840787118009043, 14.642772167550113, 26.680949992693286, 72.26211020904785, 24.078385575889932, 34.33521204090198, 12.045933090488024, 37.78366908246995, 84.6993846302467, 15.479651087798, 11.195039649982224, 45.45896530419104, 35.945522917113514, 33.46505827079213, 24.859644598640052, 46.23721116942644, 26.5804499209826, 179.41119502099525, 24.82906212606082, 24.82547246839992, 34.215095293994786, 23.119617786842802, 75.32151217049088, 40.89286547558938, 32.384925120247395, 125.79847392223108, 171.7996450522835, 40.778391630781556, 40.771684951183026, 30.662484372272072, 60.07920319834141, 89.04795081008605, 51.344666070531616, 30.13963887767738, 28.465815944562944, 33.4892415466998, 33.49193601197481, 28.46685813222834, 28.46357469204169, 34.3141211040381, 13.39923809112406, 10.8867841160578, 11.724322481895827, 9.212737080218659, 9.2126586784909, 9.212846184122286, 9.212974122392033, 9.2130200325028, 10.050012458688217, 9.212510739778534, 9.213703647856535, 10.052235349773706, 9.213732666554487, 9.21387516556421, 8.376711916835283, 8.376043282670395, 56.064651627721645, 9.214286672860503, 7.538826949022139, 7.538591197314219, 55.294193671507145, 62.78090361791451, 10.89367133752194, 15.937518198190839, 23.42231224945936, 38.50844995661339, 52.793847119891254, 14.225617834073834, 46.99124071987305, 83.9562739598378, 82.39695185911032, 76.74224754201838, 15.926441718980524, 81.71442870027695, 101.33620342562685, 88.13956790743103, 39.24197743373364, 12.551426454130418, 12.589246807401764, 16.715114598321243, 46.7090656264656, 60.07920319834141, 171.7996450522835, 89.04795081008605, 93.90804569869215, 179.41119502099525, 23.43553503460517, 40.73201643493736, 36.28516504204613], \"logprob\": [30.0, 29.0, 28.0, 27.0, 26.0, 25.0, 24.0, 23.0, 22.0, 21.0, 20.0, 19.0, 18.0, 17.0, 16.0, 15.0, 14.0, 13.0, 12.0, 11.0, 10.0, 9.0, 8.0, 7.0, 6.0, 5.0, 4.0, 3.0, 2.0, 1.0, -5.9462, -5.8978, -6.1222, -6.1229, -6.123, -6.1246, -6.1249, -4.5799, -6.127, -6.1335, -6.1336, -6.342, -5.9632, -6.343, -6.3431, -6.3442, -6.345, -6.345, -4.3152, -4.5277, -6.4259, -4.5413, -6.2049, -6.3487, -6.4295, -6.4296, -6.4306, -6.4306, -6.2766, -5.2532, -4.5523, -4.4616, -5.5634, -4.5353, -4.8747, -4.4354, -5.7124, -4.4344, -5.7982, -5.7995, -5.8016, -4.3904, -4.4372, -5.1607, -4.4347, -4.5212, -4.9383, -4.426, -4.9595, -5.7525, -4.3029, -5.4152, -5.3151, -4.3623, -5.2614, -5.4728, -5.3015, -5.5558, -5.4139, -5.3844, -5.117, -5.253, -5.3081, -5.2815, -5.2528, -5.3454, -5.6063, -5.6105, -5.9938, -5.9957, -5.5308, -6.0008, -5.3179, -6.4177, -6.3231, -6.3234, -6.4223, -5.4335, -5.434, -6.5366, -5.1505, -5.44, -6.3382, -5.6044, -6.6618, -6.6657, -6.6659, -6.6661, -6.6686, -5.5318, -6.807, -6.6742, -6.6755, -6.8102, -6.8109, -5.3565, -5.9273, -5.3531, -4.3956, -5.4672, -5.1574, -6.1498, -5.095, -4.3618, -5.927, -6.2251, -4.9686, -5.1912, -5.2538, -5.5164, -4.9852, -5.4641, -3.9179, -5.5505, -5.5549, -5.3112, -5.6212, -4.8821, -5.2705, -5.4213, -4.8492, -4.9194, -5.4176, -5.4229, -5.4941, -5.4123, -5.4559, -5.496, -5.0369, -5.0949, -4.9324, -4.9329, -5.0963, -5.0965, -4.9281, -5.8712, -6.0852, -6.0116, -6.2609, -6.2631, -6.2634, -6.2634, -6.2643, -6.1791, -6.267, -6.2692, -6.1854, -6.2731, -6.2741, -6.3694, -6.3708, -4.4699, -6.2784, -6.4793, -6.4814, -4.489, -4.3637, -6.1246, -5.7473, -5.367, -4.8827, -4.6202, -5.8711, -4.8332, -4.3453, -4.3896, -4.4659, -5.8076, -4.4689, -4.3371, -4.4503, -5.1066, -6.0145, -6.016, -5.8057, -5.0544, -4.8984, -4.2646, -4.6994, -4.6994, -4.4574, -5.6388, -5.5298, -5.6849]}, \"token.table\": {\"Topic\": [1, 2, 3, 2, 1, 2, 1, 2, 3, 3, 1, 2, 1, 2, 3, 2, 1, 2, 2, 3, 1, 2, 3, 1, 2, 1, 2, 3, 3, 1, 2, 3, 2, 3, 1, 2, 3, 2, 1, 3, 1, 2, 3, 2, 1, 2, 3, 1, 2, 2, 1, 2, 3, 1, 2, 1, 1, 2, 3, 1, 1, 2, 3, 1, 3, 2, 3, 1, 2, 3, 1, 1, 2, 3, 2, 3, 1, 2, 3, 1, 2, 3, 3, 3, 1, 3, 3, 1, 2, 3, 1, 1, 2, 3, 1, 2, 3, 1, 2, 1, 2, 3, 1, 2, 1, 2, 3, 1, 1, 2, 3, 1, 2, 3, 1, 2, 3, 1, 1, 2, 3, 1, 2, 3, 1, 2, 3, 1, 1, 2, 3, 1, 3, 1, 2, 3, 1, 3, 1, 3, 1, 1, 2, 1, 2, 3, 1, 2, 3, 2, 3, 1, 2, 3, 1, 2, 3, 1, 1, 1, 2, 2, 3, 1, 2, 3, 1, 2, 3, 2, 1, 2, 1, 1, 2, 3, 1, 2, 3, 1, 2, 3, 1, 1, 3, 3, 1, 2, 3, 1, 2, 3, 1, 2, 3, 3, 2, 1, 2, 3, 1, 2, 1, 2, 3, 1, 2, 3, 1, 2, 3, 3, 2, 3, 1, 2, 3, 1, 2, 3, 1, 2, 3, 1, 2, 3, 1, 2, 1, 2, 3, 1, 2, 3, 2, 1, 3, 3, 3, 1, 2, 3, 1, 2, 3, 1, 2, 1, 1, 2, 3, 1, 2, 3, 1, 2, 2, 1, 2, 3, 1, 2, 3, 2, 1, 2, 3, 3, 1, 2, 3, 1, 2, 3, 1, 2, 1, 2, 3, 1, 2, 3, 1, 2, 3, 1, 2, 3, 1, 1, 2, 3, 1, 1, 2, 3, 1, 2, 3, 1, 1, 2, 1, 2, 3, 1, 2, 3, 3, 1, 2, 3, 1, 2, 3, 1, 2, 1, 2, 3, 1, 2, 3, 2, 3, 2, 1, 2, 3, 2, 3, 1, 2, 3, 1, 2, 3, 1, 2, 3, 2, 1, 2, 3, 1, 2, 3, 1, 2, 3, 3, 1, 2, 3, 1, 2, 3, 1, 2, 3], \"Term\": [\"_org\", \"_org\", \"_org\", \"_rblx\", \"abus\", \"abus\", \"affair\", \"affair\", \"affair\", \"airport\", \"albania\", \"amb\", \"amp\", \"amp\", \"amp\", \"andrew\", \"android\", \"android\", \"around\", \"around\", \"attack\", \"attack\", \"attack\", \"authent\", \"authent\", \"baltic\", \"baltic\", \"baltic\", \"benefit\", \"best\", \"best\", \"best\", \"black\", \"black\", \"bring\", \"bring\", \"bring\", \"britain\", \"bulgaria\", \"bulgaria\", \"chronolog\", \"chronolog\", \"chronolog\", \"circus\", \"cole\", \"cole\", \"cole\", \"collect\", \"collect\", \"combat\", \"complet\", \"complet\", \"complet\", \"condit\", \"condit\", \"consid\", \"countri\", \"countri\", \"countri\", \"crimin\", \"cyber\", \"cyber\", \"cyber\", \"day\", \"day\", \"decid\", \"decid\", \"defens\", \"defens\", \"defens\", \"diaz\", \"digit\", \"digit\", \"digit\", \"disconnect\", \"disconnect\", \"don\", \"don\", \"don\", \"drive\", \"drive\", \"drive\", \"eeduc\", \"efsi\", \"electr\", \"electr\", \"emh\", \"end\", \"end\", \"end\", \"enjoy\", \"estonian\", \"estonian\", \"estonian\", \"europ\", \"europ\", \"europ\", \"eurovis\", \"eurovis\", \"even\", \"even\", \"even\", \"export\", \"facelift\", \"farm\", \"farm\", \"farm\", \"fenero\", \"fernandez\", \"fernandez\", \"fernandez\", \"fighter\", \"fighter\", \"fighter\", \"finland\", \"finland\", \"finland\", \"forecast\", \"fur\", \"fur\", \"fur\", \"good\", \"good\", \"good\", \"greec\", \"greec\", \"greec\", \"hamburg\", \"hand\", \"hand\", \"hand\", \"hello\", \"hello\", \"help\", \"help\", \"help\", \"http\", \"http\", \"hug\", \"hurt\", \"hurtado\", \"io\", \"io\", \"itali\", \"itali\", \"itali\", \"javier\", \"javier\", \"javier\", \"join\", \"join\", \"joke\", \"joke\", \"joke\", \"journal\", \"journal\", \"june\", \"karula\", \"khaliavin\", \"khlexpans\", \"klm\", \"labour\", \"ladi\", \"lanka\", \"lanka\", \"lanka\", \"latvia\", \"latvia\", \"latvia\", \"laul\", \"level\", \"level\", \"liberia\", \"lithuania\", \"lithuania\", \"lithuania\", \"lo\", \"lo\", \"lo\", \"love\", \"love\", \"love\", \"luck\", \"malmo\", \"manic\", \"manicsin\", \"market\", \"market\", \"market\", \"marri\", \"meddl\", \"meddl\", \"member\", \"member\", \"member\", \"men\", \"met\", \"minibus\", \"minibus\", \"minibus\", \"mint\", \"mint\", \"mix\", \"mix\", \"mix\", \"nation\", \"nation\", \"nation\", \"nato\", \"nato\", \"nato\", \"nest\", \"network\", \"network\", \"neutral\", \"neutral\", \"neutral\", \"new\", \"new\", \"new\", \"news\", \"news\", \"news\", \"now\", \"now\", \"now\", \"offici\", \"offici\", \"old\", \"old\", \"old\", \"onlin\", \"onlin\", \"onlin\", \"parliament\", \"peopl\", \"peopl\", \"photograph\", \"pisa\", \"plz\", \"plz\", \"plz\", \"poland\", \"poland\", \"poland\", \"pre\", \"protocol\", \"reagent\", \"right\", \"right\", \"right\", \"roam\", \"roam\", \"roam\", \"robledo\", \"roundtrip\", \"royal\", \"russia\", \"russia\", \"russia\", \"russian\", \"russian\", \"russian\", \"sandov\", \"say\", \"say\", \"say\", \"school\", \"secur\", \"secur\", \"secur\", \"self\", \"self\", \"self\", \"send\", \"send\", \"set\", \"set\", \"set\", \"shop\", \"shop\", \"shop\", \"sign\", \"sign\", \"sign\", \"sinc\", \"sinc\", \"sinc\", \"smart\", \"song\", \"song\", \"song\", \"soro\", \"soviet\", \"soviet\", \"soviet\", \"spend\", \"spend\", \"spend\", \"sri\", \"stand\", \"stand\", \"state\", \"state\", \"state\", \"step\", \"step\", \"step\", \"stork\", \"street\", \"street\", \"street\", \"take\", \"take\", \"take\", \"tall\", \"tall\", \"tallinn\", \"tallinn\", \"tallinn\", \"target\", \"target\", \"target\", \"ten\", \"thala\", \"timelin\", \"tini\", \"tini\", \"tini\", \"tonight\", \"tonight\", \"top\", \"top\", \"top\", \"total\", \"total\", \"total\", \"travel\", \"travel\", \"travel\", \"tuesday\", \"usa\", \"usa\", \"usa\", \"use\", \"use\", \"valgamaa\", \"via\", \"via\", \"via\", \"walker\", \"watch\", \"watch\", \"watch\", \"world\", \"world\", \"world\", \"yesterday\", \"yesterday\", \"yesterday\"], \"Freq\": [0.9501365879489035, 0.04831202989570696, 0.01610400996523565, 0.8699362091933766, 0.32613143405440914, 0.6522628681088183, 0.08322347391148546, 0.366183285210536, 0.549274927815804, 0.9550286651164189, 0.981866506182192, 0.9482153691720429, 0.4249135670669403, 0.20954641663575138, 0.3667062291125649, 0.8699482343234014, 0.8915133693586829, 0.05244196290345193, 0.07943286959884341, 0.8737615655872775, 0.14562309951788638, 0.8154893573001638, 0.02912461990357728, 0.891594559800912, 0.05244673881181835, 0.2861761050805877, 0.13815398176304233, 0.5822203517156784, 0.9702044184595449, 0.21335122038464002, 0.085340488153856, 0.682723905230848, 0.06274502639397869, 0.8784303695157017, 0.052932921777253145, 0.7939938266587973, 0.13233230444313288, 0.948246089344107, 0.07029571661940442, 0.9138443160522576, 0.04826856031182214, 0.9171026459246207, 0.04826856031182214, 0.9271206898721185, 0.032205665505722854, 0.9017586341602398, 0.032205665505722854, 0.05043720701370988, 0.9078697262467778, 0.9272808346524082, 0.1956331479087844, 0.6113535872149513, 0.17117900442018633, 0.052642606493933465, 0.9475669168908024, 0.9292912412474005, 0.15484250773466693, 0.15484250773466693, 0.6908358037392832, 0.9060632204518652, 0.22255901015676233, 0.7511366592790729, 0.02781987626959529, 0.540115661475816, 0.44191281393475856, 0.03512985547112002, 0.9485060977202405, 0.9320747298348652, 0.061119654415400994, 0.015279913603850248, 0.92913220087649, 0.8452534347049538, 0.10245496178241864, 0.05122748089120932, 0.035128569347379596, 0.9484713723792491, 0.09470800619332284, 0.07576640495465826, 0.833430454501241, 0.038636499656898665, 0.9272759917655681, 0.038636499656898665, 0.9769323753555111, 0.9382205254918318, 0.035132621633768166, 0.9485807841117405, 0.9768783708543688, 0.7213253303669, 0.19093905803829705, 0.08486180357257647, 0.9542085691364957, 0.6836181287100813, 0.2278727095700271, 0.08545226608876016, 0.28031207190247387, 0.02548291562749762, 0.6880387219424359, 0.06829307924465988, 0.8878100301805785, 0.10640280876613356, 0.12768337051936027, 0.7661002231161615, 0.9059880253372884, 0.8702071113124463, 0.7784976213014073, 0.12593343873993354, 0.10303644987812745, 0.9292477163604618, 0.31273517219911207, 0.026061264349926005, 0.6775928730980761, 0.06460093928010177, 0.839812210641323, 0.06460093928010177, 0.7513855091636122, 0.11270782637454184, 0.13149246410363213, 0.949002927100492, 0.7938593573062872, 0.11674402313327753, 0.09339521850662202, 0.39829258780804544, 0.49122752496325606, 0.10621135674881212, 0.7780517279507727, 0.06274610709280425, 0.16313987844129105, 0.9058269996868802, 0.8993267414867415, 0.06131773237409601, 0.04087848824939734, 0.07967221922181765, 0.8763944114399941, 0.8155021906003995, 0.0344578390394535, 0.1493173025042985, 0.08538866610174939, 0.8965809940683687, 0.981859589875269, 0.8953232476995882, 0.9292786380071335, 0.8916287052505221, 0.05244874736767777, 0.0627886641375919, 0.0627886641375919, 0.8162526337886948, 0.34265674306678595, 0.024475481647627566, 0.6241247820145029, 0.8932527541352547, 0.08932527541352547, 0.02914252114947276, 0.02914252114947276, 0.9325606767831284, 0.12459307084956507, 0.8721514959469555, 0.9768968047584348, 0.9664191864203933, 0.9292412798007182, 0.9058734418971889, 0.9265602073630769, 0.8702332404192048, 0.9769083738777868, 0.9537720571245488, 0.06358480380830325, 0.06358480380830325, 0.22691284374124784, 0.18153027499299826, 0.5899733937272443, 0.8699682135318054, 0.9169075542772471, 0.048258292330381425, 0.906063529235437, 0.13350008406632305, 0.19418194046010626, 0.6796367916103718, 0.03617016303523007, 0.0542552445528451, 0.9042540758807517, 0.7936355842589637, 0.1742126892275774, 0.01935696546973082, 0.981885770429543, 0.9059148914358846, 0.9769166875803831, 0.9551049021620496, 0.6748161326678375, 0.24538768460648633, 0.09202038172743238, 0.9818254507470936, 0.029857933552794827, 0.9554538736894345, 0.9043676266103621, 0.07536396888419684, 0.015072793776839368, 0.9768832388365878, 0.8288833180155086, 0.042946446393744016, 0.9018753742686244, 0.042946446393744016, 0.05263472944081347, 0.9474251299346423, 0.2162665510346569, 0.7785595837247647, 0.04325331020693138, 0.6820979711833464, 0.2923277019357199, 0.024360641827976655, 0.6120900961612744, 0.30207043706660297, 0.07949222028068499, 0.8682719029997357, 0.03317889786465358, 0.9621880380749538, 0.029860335851605604, 0.029860335851605604, 0.9555307472513793, 0.6162686785475443, 0.3286766285586903, 0.06162686785475443, 0.10813800991756536, 0.7353384674394444, 0.17302081586810458, 0.22074142902791308, 0.5395901598460098, 0.245268254475459, 0.08301556985980954, 0.8301556985980955, 0.04399572200152149, 0.7479272740258655, 0.21997861000760746, 0.5324077189402532, 0.38906717922556966, 0.06143165987772152, 0.9487743364113177, 0.17947827891657414, 0.8375653016106793, 0.9185448975010159, 0.8682691683729558, 0.883187897205297, 0.012988057311842603, 0.10390445849474082, 0.9274966979805794, 0.024407807841594194, 0.036611711762391294, 0.981878994513327, 0.8698306135605695, 0.9058570355077201, 0.30878564526147056, 0.6793284195752353, 0.03087856452614706, 0.042956181990658954, 0.9020798218038381, 0.042956181990658954, 0.9293639946985005, 0.9264986845298901, 0.9267366869820621, 0.36205630462261357, 0.20232558199498993, 0.4365973085155046, 0.2007098407410293, 0.7438070568638144, 0.07083876732036329, 0.8288498283579312, 0.7316424615116796, 0.1755941907628031, 0.08779709538140155, 0.8955212779084186, 0.9287112234732805, 0.06191408156488537, 0.030957040782442685, 0.0429467527389862, 0.9018818075187103, 0.0429467527389862, 0.8671087890901584, 0.0963454210100176, 0.07739702319695028, 0.8900657667649283, 0.03869851159847514, 0.5501365071248447, 0.39609828512988826, 0.04401092056998758, 0.8543855200024689, 0.05025797176485111, 0.10051594352970222, 0.09284159387256523, 0.8819951417893697, 0.046420796936282614, 0.9292221137446727, 0.1461343292204002, 0.701444780257921, 0.1461343292204002, 0.9062621376082414, 0.07790497938452555, 0.05193665292301703, 0.8829230996912896, 0.8865192594344828, 0.05813241045472019, 0.04359930784104014, 0.9668051499400204, 0.20137691768679222, 0.7652322872098105, 0.34254592305383896, 0.04281824038172987, 0.6208644855350831, 0.9154426837312571, 0.04161103107869351, 0.04161103107869351, 0.8682557399843089, 0.07495984965106978, 0.8620382709873025, 0.03747992482553489, 0.5648103731001582, 0.38952439524148846, 0.05842865928622327, 0.20140603593202291, 0.7653429365416872, 0.16721364570638586, 0.5406574544506476, 0.2898369858910688, 0.9355588304475629, 0.060358634222423414, 0.015089658555605854, 0.8700565595801005, 0.9285554577483783, 0.901826188520852, 0.15048654224781957, 0.7900543468010527, 0.07524327112390979, 0.09179641729741013, 0.9179641729741013, 0.19618233285005784, 0.539501415337659, 0.2697507076688295, 0.07134620271183788, 0.01783655067795947, 0.909664084575933, 0.2480352504824238, 0.33071366730989843, 0.413392084137373, 0.8287543906798622, 0.9041744691035545, 0.08219767900941403, 0.013699613168235673, 0.20112918268644617, 0.8045167307457847, 0.8682169639417636, 0.027677021805953054, 0.8303106541785916, 0.12454659812678874, 0.9285264202686029, 0.06371364172048331, 0.03185682086024166, 0.9079193945168873, 0.30320742649747573, 0.23582799838692556, 0.46042609208875945, 0.02988191420161928, 0.7769297692421012, 0.1792914852097157]}, \"plot.opts\": {\"xlab\": \"PC1\", \"ylab\": \"PC2\"}, \"mdsDat\": {\"cluster\": [1, 1, 1], \"y\": [0.09212031976550639, -0.13262479557331605, 0.040504475807809706], \"x\": [0.11060989197873032, 0.03297664732836291, -0.1435865393070933], \"topics\": [1, 2, 3], \"Freq\": [37.86520995628342, 32.449104569142186, 29.685685474574385]}};\n",
       "\n",
       "function LDAvis_load_lib(url, callback){\n",
       "  var s = document.createElement('script');\n",
       "  s.src = url;\n",
       "  s.async = true;\n",
       "  s.onreadystatechange = s.onload = callback;\n",
       "  s.onerror = function(){console.warn(\"failed to load library \" + url);};\n",
       "  document.getElementsByTagName(\"head\")[0].appendChild(s);\n",
       "}\n",
       "\n",
       "if(typeof(LDAvis) !== \"undefined\"){\n",
       "   // already loaded: just create the visualization\n",
       "   !function(LDAvis){\n",
       "       new LDAvis(\"#\" + \"ldavis_el522021317529142805381422993\", ldavis_el522021317529142805381422993_data);\n",
       "   }(LDAvis);\n",
       "}else if(typeof define === \"function\" && define.amd){\n",
       "   // require.js is available: use it to load d3/LDAvis\n",
       "   require.config({paths: {d3: \"https://cdnjs.cloudflare.com/ajax/libs/d3/3.5.5/d3.min\"}});\n",
       "   require([\"d3\"], function(d3){\n",
       "      window.d3 = d3;\n",
       "      LDAvis_load_lib(\"https://cdn.rawgit.com/bmabey/pyLDAvis/files/ldavis.v1.0.0.js\", function(){\n",
       "        new LDAvis(\"#\" + \"ldavis_el522021317529142805381422993\", ldavis_el522021317529142805381422993_data);\n",
       "      });\n",
       "    });\n",
       "}else{\n",
       "    // require.js not available: dynamically load d3 & LDAvis\n",
       "    LDAvis_load_lib(\"https://cdnjs.cloudflare.com/ajax/libs/d3/3.5.5/d3.min.js\", function(){\n",
       "         LDAvis_load_lib(\"https://cdn.rawgit.com/bmabey/pyLDAvis/files/ldavis.v1.0.0.js\", function(){\n",
       "                 new LDAvis(\"#\" + \"ldavis_el522021317529142805381422993\", ldavis_el522021317529142805381422993_data);\n",
       "            })\n",
       "         });\n",
       "}\n",
       "</script>"
      ],
      "text/plain": [
       "<IPython.core.display.HTML object>"
      ]
     },
     "execution_count": 16,
     "metadata": {},
     "output_type": "execute_result"
    }
   ],
   "source": [
    "pyLDAvis.display(estldavis)"
   ]
  },
  {
   "cell_type": "code",
   "execution_count": 17,
   "metadata": {
    "collapsed": false
   },
   "outputs": [
    {
     "data": {
      "text/plain": [
       "[(0, '0.026*\"riga\" + 0.018*\"europ\" + 0.016*\"lithuania\"'),\n",
       " (1, '0.011*\"bowl\" + 0.010*\"use\" + 0.009*\"mssqld\"'),\n",
       " (2, '0.018*\"don\" + 0.012*\"riga\" + 0.011*\"travel\"')]"
      ]
     },
     "execution_count": 17,
     "metadata": {},
     "output_type": "execute_result"
    }
   ],
   "source": [
    "#sama asi Läti tweetide puhul\n",
    "latdictionary = Dictionary(latstem)\n",
    "latcorpus = [latdictionary.doc2bow(text) for text in latstem]\n",
    "#mudel\n",
    "latmudel = LdaModel(corpus=latcorpus, id2word=latdictionary, \n",
    "                    iterations=500, num_topics=n_topics_lat, random_state=1)\n",
    "latmudel.print_topics(num_topics=3, num_words=3)"
   ]
  },
  {
   "cell_type": "markdown",
   "metadata": {},
   "source": [
    "Esimene teema tundub olevat seotud pühadega, teine spordiga, kolmas on rahvusvaheline teema."
   ]
  },
  {
   "cell_type": "code",
   "execution_count": 18,
   "metadata": {
    "collapsed": false
   },
   "outputs": [
    {
     "data": {
      "text/html": [
       "\n",
       "<link rel=\"stylesheet\" type=\"text/css\" href=\"https://cdn.rawgit.com/bmabey/pyLDAvis/files/ldavis.v1.0.0.css\">\n",
       "\n",
       "\n",
       "<div id=\"ldavis_el522021317529146403564764164\"></div>\n",
       "<script type=\"text/javascript\">\n",
       "\n",
       "var ldavis_el522021317529146403564764164_data = {\"lambda.step\": 0.01, \"topic.order\": [1, 2, 3], \"R\": 30, \"tinfo\": {\"loglift\": [30.0, 29.0, 28.0, 27.0, 26.0, 25.0, 24.0, 23.0, 22.0, 21.0, 20.0, 19.0, 18.0, 17.0, 16.0, 15.0, 14.0, 13.0, 12.0, 11.0, 10.0, 9.0, 8.0, 7.0, 6.0, 5.0, 4.0, 3.0, 2.0, 1.0, 0.8628, 0.8606, 0.8588, 0.8565, 0.8545, 0.8498, 0.8483, 0.8478, 0.8454, 0.8444, 0.8423, 0.8368, 0.8349, 0.8316, 0.8279, 0.8264, 0.8263, 0.8262, 0.8254, 0.8239, 0.8233, 0.8228, 0.8222, 0.8221, 0.822, 0.8219, 0.8213, 0.82, 0.8192, 0.8182, 0.8068, 0.8137, 0.8153, 0.7925, 0.8058, 0.7639, 0.7836, 0.7834, 0.7603, 0.7276, 0.6999, 0.7599, 0.5426, 0.6837, 0.5234, 0.2599, 0.2141, 0.6743, 0.3237, 0.2839, 0.0725, 0.421, 0.2706, 0.4478, 0.4383, 0.4318, 0.4297, 0.4295, 0.4234, 1.2007, 1.1931, 1.191, 1.1891, 1.1876, 1.1862, 1.1836, 1.1657, 1.1641, 1.1571, 1.1558, 1.1552, 1.1551, 1.1532, 1.1526, 1.1508, 1.15, 1.1494, 1.1467, 1.143, 1.1417, 1.1413, 1.1408, 1.14, 1.1387, 1.1385, 1.1378, 1.1375, 1.1374, 1.1371, 1.1369, 1.1228, 1.1192, 1.1189, 1.073, 1.1159, 1.0559, 1.1345, 1.0192, 0.9961, 0.9684, 1.0146, 1.0618, 0.8036, 0.9127, 1.0872, 0.7924, 0.721, 0.7743, 0.9113, 0.6475, 0.6978, 0.4417, 0.4529, 0.2663, 0.3731, 0.2965, -0.116, 0.3782, 0.124, -0.3567, -0.3973, 1.2016, 1.2006, 1.1992, 1.199, 1.1957, 1.1928, 1.1928, 1.1909, 1.177, 1.1713, 1.1601, 1.158, 1.15, 1.1497, 1.1485, 1.1456, 1.1439, 1.1409, 1.1401, 1.1385, 1.1364, 1.1232, 1.1215, 1.1213, 1.1183, 1.1166, 1.1146, 1.107, 1.1055, 1.1024, 1.0409, 1.0558, 0.9444, 0.9425, 0.9178, 1.0018, 1.0347, 0.9532, 1.0306, 0.8225, 0.8183, 0.9087, 0.8122, 0.9315, 0.7701, 0.6814, 0.8041, 0.4868, 0.7634, 0.2433, 0.3642, 0.3198, -0.2464, 0.3118, -0.0087, 0.5124, -0.1264], \"Freq\": [128.0, 110.0, 52.0, 51.0, 114.0, 48.0, 48.0, 47.0, 49.0, 46.0, 46.0, 46.0, 249.0, 54.0, 96.0, 53.0, 55.0, 53.0, 53.0, 33.0, 33.0, 33.0, 34.0, 61.0, 63.0, 71.0, 31.0, 156.0, 33.0, 41.0, 52.94176205566947, 51.968454781678325, 52.72508014060206, 54.293463877992174, 39.78755707421255, 42.11841550936914, 36.17431321240681, 39.50491792351104, 28.518106304861, 29.322278947279084, 39.28728799055064, 39.074368534761014, 15.762113211266051, 36.408161054155485, 37.033018885062425, 13.98176006685973, 12.336141860420907, 12.333535205095378, 36.937631002882405, 12.306495629335265, 12.29801205232451, 10.653036735258265, 13.103216207345456, 11.463574413384553, 11.462621640526578, 14.734253029854058, 13.091941659121943, 57.984653801413245, 11.428208975822255, 12.232450618206895, 119.25905811605917, 37.28081897539033, 28.491526931373546, 104.9953427984134, 37.10522044304604, 85.40387674399626, 30.611097233758017, 30.6053832490418, 36.239994399053224, 57.40771346644342, 68.30862675216119, 29.2747608158261, 177.59148832100556, 44.81511614067711, 109.29164842656867, 80.31829969524307, 75.46394244245047, 34.58256161056897, 48.19922674693934, 49.87022736232226, 51.80581294039991, 40.67350112324485, 42.73263080463562, 40.18786721763535, 39.79150518908097, 39.51602809177245, 39.43410269096487, 39.425402844888026, 39.173095802985436, 51.55509929626434, 25.988709225419463, 25.153754849691417, 23.53964752290024, 25.85613444407829, 21.128890855917053, 25.759119571990585, 29.9372319882987, 13.032029558882108, 9.900452477661993, 25.85951223330091, 9.882971422040956, 9.882159346734362, 43.26109326358633, 43.23594707054897, 9.085558317250042, 9.078559166928544, 43.10601091511731, 9.050985544771933, 8.267976373092297, 7.50723037638799, 7.504573613072221, 7.50090138761262, 7.495449513482564, 7.486145538356899, 7.484916196602572, 7.480045926117876, 7.478266819359051, 7.477563483471365, 7.475410106607112, 8.22120253587183, 14.748749097453599, 14.700056728169896, 14.695774875707096, 47.165040202491944, 14.654535146167785, 35.34377177863185, 8.203079707954474, 27.425092156556484, 32.7356897732658, 33.82202296262295, 21.984472719929208, 14.624127270229165, 37.12307600302628, 21.798225595228157, 11.412061468114416, 32.38339018428902, 38.8090062157533, 32.36757973378444, 21.153727879961412, 33.33273448963414, 30.094798652981446, 37.85535188765312, 34.24447350803832, 34.75882602886534, 29.53539734695762, 31.112243901058875, 40.90759490679332, 27.23428594259814, 28.002619042287694, 30.754069841596007, 29.04775631857598, 32.4647164405982, 50.35106594886843, 32.389936104448616, 32.3782442928389, 46.702211707474916, 25.397923456918036, 46.5584346459259, 45.63836152165356, 32.50803224188713, 14.073993888302963, 27.851805925735846, 12.245989737426402, 8.097939395355919, 10.522454728265044, 8.893341668053791, 30.624680771389915, 45.773295896979, 7.218638957935641, 8.013265667466879, 7.9995233298938455, 7.982553028142555, 6.300330909557047, 5.502348946113862, 5.501033908873079, 5.483825948592185, 5.474006431170962, 5.462663784623619, 4.6457099170347185, 4.637875165614697, 4.622862967939452, 25.329470623289257, 12.433005586041823, 83.51529560578064, 47.44414756153001, 52.16916250840901, 16.70865376727488, 11.494657609968085, 18.484752850776875, 10.680493632388021, 32.55037952031253, 32.407342396335565, 20.22236374850055, 28.08829911256477, 16.78567914069144, 26.48564308236845, 32.394157309808975, 22.144627574667442, 35.188665536555234, 21.142076347736694, 43.472771710251905, 34.929582623516005, 32.96852177284118, 57.0721922847839, 32.70606821446532, 42.718248601439846, 26.471970846631134, 38.61115407519273], \"Category\": [\"Default\", \"Default\", \"Default\", \"Default\", \"Default\", \"Default\", \"Default\", \"Default\", \"Default\", \"Default\", \"Default\", \"Default\", \"Default\", \"Default\", \"Default\", \"Default\", \"Default\", \"Default\", \"Default\", \"Default\", \"Default\", \"Default\", \"Default\", \"Default\", \"Default\", \"Default\", \"Default\", \"Default\", \"Default\", \"Default\", \"Topic1\", \"Topic1\", \"Topic1\", \"Topic1\", \"Topic1\", \"Topic1\", \"Topic1\", \"Topic1\", \"Topic1\", \"Topic1\", \"Topic1\", \"Topic1\", \"Topic1\", \"Topic1\", \"Topic1\", \"Topic1\", \"Topic1\", \"Topic1\", \"Topic1\", \"Topic1\", \"Topic1\", \"Topic1\", \"Topic1\", \"Topic1\", \"Topic1\", \"Topic1\", \"Topic1\", \"Topic1\", \"Topic1\", \"Topic1\", \"Topic1\", \"Topic1\", \"Topic1\", \"Topic1\", \"Topic1\", \"Topic1\", \"Topic1\", \"Topic1\", \"Topic1\", \"Topic1\", \"Topic1\", \"Topic1\", \"Topic1\", \"Topic1\", \"Topic1\", \"Topic1\", \"Topic1\", \"Topic1\", \"Topic1\", \"Topic1\", \"Topic1\", \"Topic1\", \"Topic1\", \"Topic1\", \"Topic1\", \"Topic1\", \"Topic1\", \"Topic1\", \"Topic1\", \"Topic2\", \"Topic2\", \"Topic2\", \"Topic2\", \"Topic2\", \"Topic2\", \"Topic2\", \"Topic2\", \"Topic2\", \"Topic2\", \"Topic2\", \"Topic2\", \"Topic2\", \"Topic2\", \"Topic2\", \"Topic2\", \"Topic2\", \"Topic2\", \"Topic2\", \"Topic2\", \"Topic2\", \"Topic2\", \"Topic2\", \"Topic2\", \"Topic2\", \"Topic2\", \"Topic2\", \"Topic2\", \"Topic2\", \"Topic2\", \"Topic2\", \"Topic2\", \"Topic2\", \"Topic2\", \"Topic2\", \"Topic2\", \"Topic2\", \"Topic2\", \"Topic2\", \"Topic2\", \"Topic2\", \"Topic2\", \"Topic2\", \"Topic2\", \"Topic2\", \"Topic2\", \"Topic2\", \"Topic2\", \"Topic2\", \"Topic2\", \"Topic2\", \"Topic2\", \"Topic2\", \"Topic2\", \"Topic2\", \"Topic2\", \"Topic2\", \"Topic2\", \"Topic2\", \"Topic2\", \"Topic2\", \"Topic2\", \"Topic3\", \"Topic3\", \"Topic3\", \"Topic3\", \"Topic3\", \"Topic3\", \"Topic3\", \"Topic3\", \"Topic3\", \"Topic3\", \"Topic3\", \"Topic3\", \"Topic3\", \"Topic3\", \"Topic3\", \"Topic3\", \"Topic3\", \"Topic3\", \"Topic3\", \"Topic3\", \"Topic3\", \"Topic3\", \"Topic3\", \"Topic3\", \"Topic3\", \"Topic3\", \"Topic3\", \"Topic3\", \"Topic3\", \"Topic3\", \"Topic3\", \"Topic3\", \"Topic3\", \"Topic3\", \"Topic3\", \"Topic3\", \"Topic3\", \"Topic3\", \"Topic3\", \"Topic3\", \"Topic3\", \"Topic3\", \"Topic3\", \"Topic3\", \"Topic3\", \"Topic3\", \"Topic3\", \"Topic3\", \"Topic3\", \"Topic3\", \"Topic3\", \"Topic3\", \"Topic3\", \"Topic3\", \"Topic3\", \"Topic3\", \"Topic3\"], \"Term\": [\"europ\", \"don\", \"bowl\", \"uruguay\", \"holiday\", \"eddi\", \"stanford\", \"harrison\", \"ford\", \"mssqld\", \"honeypot\", \"exploit\", \"riga\", \"use\", \"market\", \"startup\", \"xma\", \"nfl\", \"nba\", \"treason\", \"talkin\", \"extens\", \"biz\", \"happi\", \"watchcc\", \"travel\", \"advanc\", \"lithuania\", \"present\", \"air\", \"startup\", \"nba\", \"nfl\", \"xma\", \"liberti\", \"statu\", \"expenditur\", \"mother\", \"electr\", \"disconnect\", \"milda\", \"dub\", \"wrote\", \"_aslund\", \"increas\", \"spot\", \"ladi\", \"tallinn\", \"fast\", \"appar\", \"manntravel\", \"inv\", \"regularli\", \"challeng\", \"bulgaria\", \"bring\", \"done\", \"happi\", \"gem\", \"gdp\", \"europ\", \"footbal\", \"decid\", \"holiday\", \"defens\", \"market\", \"dworkinreport\", \"russianhack\", \"note\", \"state\", \"christma\", \"network\", \"riga\", \"come\", \"lithuania\", \"amp\", \"video\", \"sex\", \"baltic\", \"new\", \"russia\", \"popular\", \"will\", \"featur\", \"monkey\", \"paint\", \"rozent\", \"princess\", \"collector\", \"bowl\", \"rama\", \"agai\", \"soon\", \"chirp\", \"stori\", \"msg\", \"advanc\", \"proof\", \"mid\", \"sabr\", \"tie\", \"wane\", \"mssqld\", \"honeypot\", \"koka\", \"must\", \"exploit\", \"iveta\", \"porcelain\", \"plight\", \"allevi\", \"baltar\", \"slight\", \"civilian\", \"revers\", \"invad\", \"effort\", \"cosponsor\", \"incurvatur\", \"entiti\", \"rudi\", \"cia\", \"thelead\", \"use\", \"giuliani\", \"air\", \"evil\", \"fli\", \"attack\", \"play\", \"back\", \"secret\", \"watch\", \"beat\", \"europea\", \"olymp\", \"http\", \"franc\", \"japan\", \"final\", \"qualif\", \"just\", \"coin\", \"new\", \"silver\", \"will\", \"lithuania\", \"nine\", \"baltic\", \"amp\", \"video\", \"treason\", \"uruguay\", \"talkin\", \"extens\", \"eddi\", \"export\", \"stanford\", \"harrison\", \"biz\", \"etsi\", \"deal\", \"internationalmigrantday\", \"japon\", \"cooper\", \"februari\", \"present\", \"ford\", \"rank\", \"pressconferen\", \"discuss\", \"futur\", \"christmasmarket\", \"auspol\", \"queen\", \"cndpoli\", \"est\", \"dec\", \"dutch\", \"poor\", \"tragic\", \"trade\", \"blog\", \"don\", \"watchcc\", \"travel\", \"itun\", \"visit\", \"number\", \"dynam\", \"msnbc\", \"cnn\", \"song\", \"free\", \"want\", \"game\", \"good\", \"last\", \"trump\", \"team\", \"russia\", \"just\", \"trumpleak\", \"riga\", \"amjoy\", \"video\", \"shop\", \"amp\"], \"Total\": [128.0, 110.0, 52.0, 51.0, 114.0, 48.0, 48.0, 47.0, 49.0, 46.0, 46.0, 46.0, 249.0, 54.0, 96.0, 53.0, 55.0, 53.0, 53.0, 33.0, 33.0, 33.0, 34.0, 61.0, 63.0, 71.0, 31.0, 156.0, 33.0, 41.0, 53.99060514854534, 53.11677900285763, 53.98566230895829, 55.717760364068255, 40.914135409317446, 43.51387438250614, 37.4289698869724, 40.8966708139479, 29.59396670804199, 30.458253782851198, 40.89633438768459, 40.89756794187945, 16.52936453785425, 38.30891090645687, 39.11000369037593, 14.788074505879601, 13.04848147592989, 13.046981262310148, 39.106736846345306, 13.047815614681506, 13.047593974285089, 11.307327766892083, 13.917341261948133, 12.176297397790231, 12.17686675838788, 15.65399005988546, 13.917344691547674, 61.71994461546614, 12.173826433386788, 13.044480958154079, 128.63157708101608, 39.9339635209231, 30.470504194495923, 114.87579123961032, 40.059607394396586, 96.14946642453077, 33.791629718665135, 33.79295647883798, 40.94655510093069, 67.01902447352667, 81.98845108877794, 33.0926032994278, 249.46648030025858, 54.666846405763124, 156.50367408397867, 149.68352361203182, 147.2299473624663, 42.583813308752774, 84.27583943573893, 90.73432401615345, 116.44716191711778, 64.52310515001484, 78.79344377175542, 62.06333625886228, 62.04391453006681, 62.01172605229208, 62.01619014241118, 62.01402287173921, 61.99124619117033, 52.86240885660076, 26.85260779777703, 26.042606700547438, 24.417988386279873, 26.86262286643092, 21.98070669468738, 26.869615373492877, 31.791801365382632, 13.860858322596517, 10.604630461320413, 27.733623379071794, 10.605951557554869, 10.606125225946954, 46.51548153388406, 46.51843302019034, 9.792955242824267, 9.793478841714483, 46.52701697778215, 9.795670629655577, 8.981633488539932, 8.16580595928023, 8.165989180133865, 8.166302603019023, 8.1667487353714, 8.167399157000938, 8.167546461222734, 8.167884684960015, 8.16802109170858, 8.168082697658434, 8.168320496731353, 8.985179186702192, 16.348676829716055, 16.352464629120586, 16.3526334762247, 54.95131841010546, 16.355998604360863, 41.88944150924625, 8.986593746779661, 33.71925896909027, 41.18903470850225, 43.75161118327304, 27.153373761382287, 17.229848442185336, 56.622334458744966, 29.81156406696738, 13.108643336465319, 49.94910227855394, 64.29029086737444, 50.83632165648286, 28.97186333954763, 59.43303766450527, 51.02367299415956, 82.91362919772902, 74.17217456322, 90.73432401615345, 69.288907503682, 78.79344377175542, 156.50367408397867, 63.56700656944917, 84.27583943573893, 149.68352361203182, 147.2299473624663, 33.354900847901476, 51.78284285258229, 33.35564132074687, 33.35286366057251, 48.2653580652096, 26.324036553478702, 48.25807515599169, 47.39069089423333, 34.22939872303696, 14.90385330814189, 29.828071720658258, 13.142306062165364, 8.759888845611774, 11.386079466040698, 9.635365710451357, 33.276869626620176, 49.819822165678076, 7.880203936654666, 8.755019529037735, 8.754017477204036, 8.754035713156627, 7.00073006063457, 6.124220925642707, 6.124491638421124, 6.1232439126311675, 6.123133538795276, 6.1222369376033825, 5.246264142971219, 5.245769143715689, 5.244948541578859, 30.56074625849164, 14.77788763060334, 110.97162158555801, 63.15894843147035, 71.18685434658977, 20.96324487420737, 13.954863115271593, 24.346070687088858, 13.019064644291367, 48.85956619104259, 48.84852140962403, 27.845609150543602, 42.59687896180486, 22.592294947343888, 41.892011148598755, 55.99423829642182, 33.85576477345788, 73.88697833098405, 33.66586098321787, 116.44716191711778, 82.91362919772902, 81.80981476606804, 249.46648030025858, 81.80947595508711, 147.2299473624663, 54.17938910232069, 149.68352361203182], \"logprob\": [30.0, 29.0, 28.0, 27.0, 26.0, 25.0, 24.0, 23.0, 22.0, 21.0, 20.0, 19.0, 18.0, 17.0, 16.0, 15.0, 14.0, 13.0, 12.0, 11.0, 10.0, 9.0, 8.0, 7.0, 6.0, 5.0, 4.0, 3.0, 2.0, 1.0, -4.8454, -4.864, -4.8495, -4.8202, -5.1311, -5.0742, -5.2263, -5.1382, -5.4641, -5.4363, -5.1437, -5.1492, -6.057, -5.2198, -5.2028, -6.1769, -6.3021, -6.3023, -5.2054, -6.3045, -6.3052, -6.4488, -6.2418, -6.3755, -6.3755, -6.1245, -6.2426, -4.7545, -6.3786, -6.3105, -4.0333, -5.1962, -5.465, -4.1607, -5.2009, -4.3672, -5.3933, -5.3935, -5.2245, -4.7645, -4.5906, -5.4379, -3.6352, -5.0121, -4.1206, -4.4286, -4.491, -5.2713, -4.9393, -4.9052, -4.8671, -5.1091, -5.0597, -5.1211, -5.131, -5.1379, -5.14, -5.1402, -5.1466, -4.5287, -5.2136, -5.2463, -5.3126, -5.2188, -5.4207, -5.2225, -5.0722, -5.9039, -6.1787, -5.2186, -6.1805, -6.1806, -4.7041, -4.7046, -6.2646, -6.2654, -4.7076, -6.2684, -6.3589, -6.4554, -6.4558, -6.4563, -6.457, -6.4583, -6.4584, -6.4591, -6.4593, -6.4594, -6.4597, -6.3646, -5.7802, -5.7835, -5.7838, -4.6177, -5.7866, -4.9062, -6.3668, -5.1599, -4.9828, -4.9502, -5.381, -5.7886, -4.8571, -5.3895, -6.0366, -4.9937, -4.8127, -4.9942, -5.4195, -4.9648, -5.067, -4.8375, -4.9378, -4.9229, -5.0857, -5.0337, -4.76, -5.1668, -5.139, -5.0453, -5.1024, -4.9883, -4.5494, -4.9906, -4.991, -4.6247, -5.2338, -4.6277, -4.6477, -4.987, -5.8241, -5.1416, -5.9633, -6.3768, -6.1149, -6.2832, -5.0467, -4.6448, -6.4918, -6.3874, -6.3891, -6.3912, -6.6279, -6.7633, -6.7635, -6.7667, -6.7684, -6.7705, -6.9325, -6.9342, -6.9374, -5.2365, -5.9481, -4.0434, -4.6089, -4.514, -5.6525, -6.0266, -5.5515, -6.1, -4.9857, -4.9901, -5.4617, -5.1331, -5.6479, -5.1919, -4.9905, -5.3709, -4.9077, -5.4172, -4.6963, -4.9151, -4.9729, -4.4241, -4.9809, -4.7138, -5.1924, -4.8149]}, \"token.table\": {\"Topic\": [1, 2, 3, 1, 2, 3, 2, 1, 2, 3, 2, 1, 2, 3, 1, 2, 3, 1, 1, 2, 3, 3, 1, 2, 3, 2, 1, 2, 3, 1, 2, 3, 1, 3, 2, 3, 1, 2, 3, 1, 1, 1, 1, 2, 1, 2, 3, 3, 1, 2, 2, 3, 1, 2, 3, 1, 2, 3, 1, 2, 3, 1, 2, 3, 3, 2, 1, 3, 3, 1, 2, 3, 1, 2, 3, 1, 2, 3, 3, 1, 2, 3, 1, 1, 2, 3, 3, 1, 2, 3, 2, 3, 1, 2, 3, 2, 1, 3, 2, 3, 3, 1, 2, 3, 1, 2, 2, 1, 2, 3, 1, 2, 3, 3, 1, 3, 1, 2, 3, 1, 2, 3, 3, 1, 2, 3, 1, 2, 3, 1, 2, 3, 1, 2, 3, 1, 2, 3, 1, 2, 3, 3, 1, 2, 3, 1, 1, 1, 2, 1, 2, 3, 1, 2, 3, 1, 2, 3, 1, 2, 3, 1, 2, 3, 1, 2, 3, 1, 2, 3, 2, 3, 1, 2, 1, 2, 3, 2, 1, 2, 3, 3, 1, 2, 3, 2, 1, 1, 2, 3, 1, 2, 3, 1, 2, 3, 1, 1, 2, 3, 2, 1, 2, 3, 1, 2, 3, 1, 2, 3, 1, 2, 1, 2, 3, 1, 2, 3, 2, 1, 2, 3, 1, 2, 3, 1, 2, 3, 1, 2, 3, 1, 2, 3, 1, 2, 3, 1, 2, 3, 1, 2, 3, 1, 2, 3, 1, 2, 3, 2, 3, 1, 2, 3, 2, 1, 2, 3, 3, 1, 2, 3, 2, 1, 2, 3, 3, 2, 3, 1, 2, 1, 2, 3, 1, 2, 3, 1, 2, 1, 2, 3, 1, 2, 3, 1, 2, 1, 2, 1, 2, 3, 1, 2, 3, 1, 2, 3, 2, 1, 2, 3, 2, 1, 1, 2, 3, 1, 3, 1, 2, 3, 1, 2, 3, 2, 1, 3, 1, 1, 2, 3, 1, 2, 2, 1, 2, 3, 3, 1, 2, 3, 3, 1, 2, 3, 1, 2, 3, 1, 2, 3, 1, 2, 3, 1, 2, 3, 1, 2, 3, 2, 1, 2, 3, 1, 2, 3, 1, 2, 3, 1, 2, 3, 1, 1, 2, 3], \"Term\": [\"_aslund\", \"_aslund\", \"_aslund\", \"advanc\", \"advanc\", \"advanc\", \"agai\", \"air\", \"air\", \"air\", \"allevi\", \"amjoy\", \"amjoy\", \"amjoy\", \"amp\", \"amp\", \"amp\", \"appar\", \"attack\", \"attack\", \"attack\", \"auspol\", \"back\", \"back\", \"back\", \"baltar\", \"baltic\", \"baltic\", \"baltic\", \"beat\", \"beat\", \"beat\", \"biz\", \"biz\", \"blog\", \"blog\", \"bowl\", \"bowl\", \"bowl\", \"bring\", \"bulgaria\", \"challeng\", \"chirp\", \"chirp\", \"christma\", \"christma\", \"christma\", \"christmasmarket\", \"cia\", \"cia\", \"civilian\", \"cndpoli\", \"cnn\", \"cnn\", \"cnn\", \"coin\", \"coin\", \"coin\", \"collector\", \"collector\", \"collector\", \"come\", \"come\", \"come\", \"cooper\", \"cosponsor\", \"deal\", \"deal\", \"dec\", \"decid\", \"decid\", \"decid\", \"defens\", \"defens\", \"defens\", \"disconnect\", \"disconnect\", \"disconnect\", \"discuss\", \"don\", \"don\", \"don\", \"done\", \"dub\", \"dub\", \"dub\", \"dutch\", \"dworkinreport\", \"dworkinreport\", \"dworkinreport\", \"dynam\", \"dynam\", \"eddi\", \"eddi\", \"eddi\", \"effort\", \"electr\", \"electr\", \"entiti\", \"est\", \"etsi\", \"europ\", \"europ\", \"europ\", \"europea\", \"europea\", \"evil\", \"expenditur\", \"expenditur\", \"expenditur\", \"exploit\", \"exploit\", \"exploit\", \"export\", \"extens\", \"extens\", \"fast\", \"fast\", \"fast\", \"featur\", \"featur\", \"featur\", \"februari\", \"final\", \"final\", \"final\", \"fli\", \"fli\", \"fli\", \"footbal\", \"footbal\", \"footbal\", \"ford\", \"ford\", \"ford\", \"franc\", \"franc\", \"franc\", \"free\", \"free\", \"free\", \"futur\", \"game\", \"game\", \"game\", \"gdp\", \"gem\", \"giuliani\", \"giuliani\", \"good\", \"good\", \"good\", \"happi\", \"happi\", \"happi\", \"harrison\", \"harrison\", \"harrison\", \"holiday\", \"holiday\", \"holiday\", \"honeypot\", \"honeypot\", \"honeypot\", \"http\", \"http\", \"http\", \"increas\", \"increas\", \"increas\", \"incurvatur\", \"internationalmigrantday\", \"inv\", \"invad\", \"itun\", \"itun\", \"itun\", \"iveta\", \"japan\", \"japan\", \"japan\", \"japon\", \"just\", \"just\", \"just\", \"koka\", \"ladi\", \"last\", \"last\", \"last\", \"liberti\", \"liberti\", \"liberti\", \"lithuania\", \"lithuania\", \"lithuania\", \"manntravel\", \"market\", \"market\", \"market\", \"mid\", \"milda\", \"milda\", \"milda\", \"monkey\", \"monkey\", \"monkey\", \"mother\", \"mother\", \"mother\", \"msg\", \"msg\", \"msnbc\", \"msnbc\", \"msnbc\", \"mssqld\", \"mssqld\", \"mssqld\", \"must\", \"nba\", \"nba\", \"nba\", \"network\", \"network\", \"network\", \"new\", \"new\", \"new\", \"nfl\", \"nfl\", \"nfl\", \"nine\", \"nine\", \"nine\", \"note\", \"note\", \"note\", \"number\", \"number\", \"number\", \"olymp\", \"olymp\", \"olymp\", \"paint\", \"paint\", \"paint\", \"play\", \"play\", \"play\", \"plight\", \"poor\", \"popular\", \"popular\", \"popular\", \"porcelain\", \"present\", \"present\", \"present\", \"pressconferen\", \"princess\", \"princess\", \"princess\", \"proof\", \"qualif\", \"qualif\", \"qualif\", \"queen\", \"rama\", \"rank\", \"regularli\", \"revers\", \"riga\", \"riga\", \"riga\", \"rozent\", \"rozent\", \"rozent\", \"rudi\", \"rudi\", \"russia\", \"russia\", \"russia\", \"russianhack\", \"russianhack\", \"russianhack\", \"sabr\", \"sabr\", \"secret\", \"secret\", \"sex\", \"sex\", \"sex\", \"shop\", \"shop\", \"shop\", \"silver\", \"silver\", \"silver\", \"slight\", \"song\", \"song\", \"song\", \"soon\", \"spot\", \"stanford\", \"stanford\", \"stanford\", \"startup\", \"startup\", \"state\", \"state\", \"state\", \"statu\", \"statu\", \"statu\", \"stori\", \"talkin\", \"talkin\", \"tallinn\", \"team\", \"team\", \"team\", \"thelead\", \"thelead\", \"tie\", \"trade\", \"trade\", \"trade\", \"tragic\", \"travel\", \"travel\", \"travel\", \"treason\", \"trump\", \"trump\", \"trump\", \"trumpleak\", \"trumpleak\", \"trumpleak\", \"uruguay\", \"uruguay\", \"uruguay\", \"use\", \"use\", \"use\", \"video\", \"video\", \"video\", \"visit\", \"visit\", \"visit\", \"wane\", \"want\", \"want\", \"want\", \"watch\", \"watch\", \"watch\", \"watchcc\", \"watchcc\", \"watchcc\", \"will\", \"will\", \"will\", \"wrote\", \"xma\", \"xma\", \"xma\"], \"Freq\": [0.9397291425983162, 0.02610358729439767, 0.02610358729439767, 0.03145465047755605, 0.9436395143266816, 0.03145465047755605, 0.9599653478418686, 0.04774472821650154, 0.8355327437887768, 0.11936182054125384, 0.9796731080004757, 0.39115273171493975, 0.20779988872356173, 0.4033762545810316, 0.5344609618314027, 0.20710362270966853, 0.2605497188928088, 0.9196941736743662, 0.14566983767554714, 0.8011841072155094, 0.07283491883777357, 0.9797164525658143, 0.14731134462888834, 0.8102123954588858, 0.036827836157222085, 0.9796355081236467, 0.5695582544342429, 0.3322423150866417, 0.09492637573904049, 0.1006320900594458, 0.7379686604359359, 0.16772015009907634, 0.029214652822019432, 0.9640835431266412, 0.13533733981426582, 0.812024038885595, 0.01891703427122832, 0.9836857821038726, 0.01891703427122832, 0.958222149280562, 0.9033522513024782, 0.9033944918260861, 0.037226446761074006, 0.9678876157879243, 0.8293851035967115, 0.13416523734652686, 0.036590519276325506, 0.8570534712855561, 0.0611528612157456, 0.917292918236184, 0.8570659845857703, 0.8165606451975375, 0.040942897395579395, 0.3070717304668455, 0.6550863583292703, 0.5258036484660255, 0.4583929243037145, 0.013482144832462191, 0.6291210839628988, 0.3548888165944557, 0.016131309845202533, 0.8231680252046875, 0.07317049112930556, 0.10975573669395833, 0.9660919751006314, 0.8569942615794902, 0.033525465855287664, 0.9387130439480545, 0.8166949516915145, 0.9189214533922223, 0.03281862333543651, 0.03281862333543651, 0.9236236300502397, 0.02496280081216864, 0.04992560162433728, 0.9521228697729142, 0.032831823095617725, 0.032831823095617725, 0.9138661215644657, 0.09011312853791273, 0.15319231851445164, 0.756950279718467, 0.9340862275183284, 0.9536019368052366, 0.024451331712954785, 0.024451331712954785, 0.9530591414652356, 0.9173869463560335, 0.0887793819054226, 0.029593127301807534, 0.1536208671394043, 0.8449147692667236, 0.020718793770242744, 0.020718793770242744, 0.973783307201409, 0.857000725317146, 0.9799294662354073, 0.0337906712494968, 0.8903550873909973, 0.8165753642837826, 0.9393543877912351, 0.9251227630137053, 0.03887070432830694, 0.031096563462645554, 0.076285544913578, 0.8391409940493579, 0.8902149385429594, 0.9618218216721541, 0.026717272824226507, 0.026717272824226507, 0.021492888754882478, 0.9241942164599465, 0.042985777509764955, 0.9497023736922394, 0.029982432998163576, 0.9594378559412344, 0.9461285441783878, 0.02557104173455102, 0.02557104173455102, 0.6445028967370126, 0.33836402078693156, 0.016112572418425314, 0.9340589937585676, 0.4206414644515226, 0.5552467330760099, 0.03365131715612181, 0.17793985346771923, 0.8007293406047366, 0.029656642244619873, 0.9265296188447242, 0.05008268209971482, 0.02504134104985741, 0.020072331785417754, 0.06021699535625326, 0.9233272621292167, 0.23605169707375376, 0.6294711921966767, 0.13769682329302302, 0.2347589833745015, 0.11737949168725074, 0.6573251534486042, 0.9138642178460192, 0.023870899786902423, 0.33419259701663395, 0.620643394459463, 0.9199292818545474, 0.9035778569860695, 0.06113964816146281, 0.9170947224219422, 0.4107565474548077, 0.017858980324122073, 0.5714873703719063, 0.9397286462481048, 0.03240443607752085, 0.03240443607752085, 0.02110119057415311, 0.02110119057415311, 0.9706547664110431, 0.9140307010463921, 0.026115162887039772, 0.060935380069759466, 0.021496854796591518, 0.9243647562534353, 0.06449056438977455, 0.31108896429257643, 0.606623480370524, 0.07777224107314411, 0.9460495144137469, 0.02556890579496613, 0.02556890579496613, 0.8569693124554957, 0.9130817638272872, 0.9728204777266702, 0.8570150375518271, 0.14310761611582, 0.04770253870527334, 0.8109431579896468, 0.9187732356734464, 0.17258123653975754, 0.7248411934669817, 0.10354874192385453, 0.9132535972768151, 0.12060743326229768, 0.45830824639673123, 0.4221260164180419, 0.9190279927598668, 0.9196472418753102, 0.2067594705610619, 0.11814826889203536, 0.6498154789061945, 0.9776572228602131, 0.024441430571505326, 0.024441430571505326, 0.6964692722901281, 0.2619746804027087, 0.03833775810771347, 0.9197097965839721, 0.8840402673135772, 0.08320378986480727, 0.031201421199302724, 0.9429842969516234, 0.9536307002552373, 0.02445206923731378, 0.02445206923731378, 0.6447046467484864, 0.33846993954295534, 0.01611761616871216, 0.9780747235385701, 0.02445186808846425, 0.02445186808846425, 0.037216759008262885, 0.9676357342148351, 0.04093364218953421, 0.30700231642150655, 0.6754050961273144, 0.02149821880853911, 0.9244234087671817, 0.04299643761707822, 0.9189788578155978, 0.9789750240164685, 0.01882644276954747, 0.01882644276954747, 0.8763287595600384, 0.030218233088277188, 0.09065469926483156, 0.5510593762851915, 0.3857415633996341, 0.06612712515422299, 0.9817421465848215, 0.0185234367280155, 0.0185234367280155, 0.17304574485479535, 0.42474864646177035, 0.3932857837608985, 0.8791948409643316, 0.02442207891567588, 0.09768831566270351, 0.12322316970807745, 0.12322316970807745, 0.7393390182484647, 0.2402445580118524, 0.6406521546982731, 0.10010189917160517, 0.6450392941210756, 0.3547716117665916, 0.01612598235302689, 0.09142520450833741, 0.777114238320868, 0.13713780676250611, 0.9796950894857115, 0.953149073666325, 0.6354312909255665, 0.3564614558850739, 0.015498324168916257, 0.8907065747235798, 0.030050903562155968, 0.030050903562155968, 0.9315780104268351, 0.9137615254273773, 0.6288900186440401, 0.3547584720556124, 0.016125385093436927, 0.937892856087194, 0.23518495035380113, 0.5879623758845028, 0.17638871276535084, 0.9796731474592694, 0.9682486034802321, 0.888301883589534, 0.9340864577017834, 0.8570505271361573, 0.7135227136958788, 0.06012831856987743, 0.22848761056553424, 0.6288680409170921, 0.3547460743634879, 0.01612482156197672, 0.06116702962666417, 0.9175054443999625, 0.44655446422139017, 0.18033930285863833, 0.36926619156768803, 0.9173509284224066, 0.08877589629894257, 0.029591965432980857, 0.036057315206588364, 0.9374901953712975, 0.11607763160024241, 0.870582237001818, 0.821908544127635, 0.046966202521579146, 0.14089860756473743, 0.2768580496851246, 0.23994364306044133, 0.47988728612088266, 0.5628606569951699, 0.4329697361501306, 0.014432324538337687, 0.85713424360443, 0.17956152343330548, 0.10773691405998327, 0.7182460937332219, 0.9828819483543233, 0.9467087817574715, 0.020721920564953172, 0.020721920564953172, 0.9739302665527991, 0.9816522680970167, 0.01852174090749088, 0.8505047700674261, 0.029842272633944775, 0.1193690905357791, 0.9652093865694763, 0.022981175870701816, 0.022981175870701816, 0.9553832955277816, 0.029979936238791794, 0.9593579596413374, 0.9197529879701256, 0.17822208684907678, 0.20792576799058957, 0.6237773039717687, 0.06115222978940442, 0.9172834468410662, 0.9428668371464288, 0.0981651421279157, 0.06544342808527713, 0.8180428510659642, 0.953298199279354, 0.12642783674892286, 0.14047537416546982, 0.7304719456604432, 0.9593792572168081, 0.4330939053516687, 0.08120510725343788, 0.4736964589783876, 0.39115111177678064, 0.2077990281314147, 0.403374584019805, 0.01931141561398714, 0.01931141561398714, 0.965570780699357, 0.07279170210526571, 0.8553024997368721, 0.05459377657894929, 0.5094072323163782, 0.1969707964956662, 0.2920601465280568, 0.07165960652854013, 0.07165960652854013, 0.7882556718139414, 0.9428513983161237, 0.1327886346647002, 0.1327886346647002, 0.7524689297666345, 0.15894787959612297, 0.6534523938951723, 0.19426963061748365, 0.06333227672940342, 0.18999683018821026, 0.7441542515704901, 0.5457306844533927, 0.39343374925709707, 0.06345705633178986, 0.9679742958876646, 0.9691703264301338, 0.01794759863759507, 0.01794759863759507]}, \"plot.opts\": {\"xlab\": \"PC1\", \"ylab\": \"PC2\"}, \"mdsDat\": {\"cluster\": [1, 1, 1], \"y\": [0.0553401786248611, -0.1412317489967155, 0.08589157037185438], \"x\": [0.14685588897190172, -0.01975425423865312, -0.12710163473324848], \"topics\": [1, 2, 3], \"Freq\": [41.37721162030197, 29.353217657497066, 29.269570722200967]}};\n",
       "\n",
       "function LDAvis_load_lib(url, callback){\n",
       "  var s = document.createElement('script');\n",
       "  s.src = url;\n",
       "  s.async = true;\n",
       "  s.onreadystatechange = s.onload = callback;\n",
       "  s.onerror = function(){console.warn(\"failed to load library \" + url);};\n",
       "  document.getElementsByTagName(\"head\")[0].appendChild(s);\n",
       "}\n",
       "\n",
       "if(typeof(LDAvis) !== \"undefined\"){\n",
       "   // already loaded: just create the visualization\n",
       "   !function(LDAvis){\n",
       "       new LDAvis(\"#\" + \"ldavis_el522021317529146403564764164\", ldavis_el522021317529146403564764164_data);\n",
       "   }(LDAvis);\n",
       "}else if(typeof define === \"function\" && define.amd){\n",
       "   // require.js is available: use it to load d3/LDAvis\n",
       "   require.config({paths: {d3: \"https://cdnjs.cloudflare.com/ajax/libs/d3/3.5.5/d3.min\"}});\n",
       "   require([\"d3\"], function(d3){\n",
       "      window.d3 = d3;\n",
       "      LDAvis_load_lib(\"https://cdn.rawgit.com/bmabey/pyLDAvis/files/ldavis.v1.0.0.js\", function(){\n",
       "        new LDAvis(\"#\" + \"ldavis_el522021317529146403564764164\", ldavis_el522021317529146403564764164_data);\n",
       "      });\n",
       "    });\n",
       "}else{\n",
       "    // require.js not available: dynamically load d3 & LDAvis\n",
       "    LDAvis_load_lib(\"https://cdnjs.cloudflare.com/ajax/libs/d3/3.5.5/d3.min.js\", function(){\n",
       "         LDAvis_load_lib(\"https://cdn.rawgit.com/bmabey/pyLDAvis/files/ldavis.v1.0.0.js\", function(){\n",
       "                 new LDAvis(\"#\" + \"ldavis_el522021317529146403564764164\", ldavis_el522021317529146403564764164_data);\n",
       "            })\n",
       "         });\n",
       "}\n",
       "</script>"
      ],
      "text/plain": [
       "<IPython.core.display.HTML object>"
      ]
     },
     "execution_count": 18,
     "metadata": {},
     "output_type": "execute_result"
    }
   ],
   "source": [
    "latldavis=pyLDAvis.gensim.prepare(latmudel, latcorpus, latdictionary) \n",
    "pyLDAvis.display(latldavis)"
   ]
  },
  {
   "cell_type": "markdown",
   "metadata": {
    "collapsed": true
   },
   "source": [
    "## Teine variant "
   ]
  },
  {
   "cell_type": "markdown",
   "metadata": {},
   "source": [
    "Proovime paketti sklearn teemade mudeldamiseks. Esmalt viime andmed sobivasse formaati."
   ]
  },
  {
   "cell_type": "code",
   "execution_count": 19,
   "metadata": {
    "collapsed": true
   },
   "outputs": [],
   "source": [
    "estdict=sonede_dict(eststem)\n",
    "latdict=sonede_dict(latstem)"
   ]
  },
  {
   "cell_type": "code",
   "execution_count": 20,
   "metadata": {
    "collapsed": false
   },
   "outputs": [],
   "source": [
    "from sklearn.feature_extraction.text import CountVectorizer\n",
    "#teeb dokumendi-sõna maatriksi\n",
    "tfest = CountVectorizer(stop_words='english')\n",
    "tflat = CountVectorizer(stop_words='english')\n",
    "tfsest = tfest.fit_transform(estdict.values())\n",
    "tfslat = tflat.fit_transform(latdict.values())"
   ]
  },
  {
   "cell_type": "code",
   "execution_count": 21,
   "metadata": {
    "collapsed": true
   },
   "outputs": [],
   "source": [
    "#Mudeli ehitamine\n",
    "from sklearn.decomposition import LatentDirichletAllocation\n",
    "import pyLDAvis.sklearn\n",
    "lda_est = LatentDirichletAllocation(n_topics=3, random_state=1)\n",
    "lda_est.fit_transform(tfsest)\n",
    "#mudeli paramteerid\n",
    "lda_est.get_params()"
   ]
  },
  {
   "cell_type": "code",
   "execution_count": 31,
   "metadata": {
    "collapsed": false
   },
   "outputs": [
    {
     "data": {
      "text/plain": [
       "{'batch_size': 128,\n",
       " 'doc_topic_prior': None,\n",
       " 'evaluate_every': -1,\n",
       " 'learning_decay': 0.7,\n",
       " 'learning_method': 'online',\n",
       " 'learning_offset': 10.0,\n",
       " 'max_doc_update_iter': 100,\n",
       " 'max_iter': 10,\n",
       " 'mean_change_tol': 0.001,\n",
       " 'n_jobs': 1,\n",
       " 'n_topics': 3,\n",
       " 'perp_tol': 0.1,\n",
       " 'random_state': 1,\n",
       " 'topic_word_prior': None,\n",
       " 'total_samples': 1000000.0,\n",
       " 'verbose': 0}"
      ]
     },
     "execution_count": 31,
     "metadata": {},
     "output_type": "execute_result"
    }
   ],
   "source": [
    "#sama Läti mudeliga\n",
    "lda_lat = LatentDirichletAllocation(n_topics=3, random_state=1)\n",
    "lda_lat.fit_transform(tfslat)\n",
    "#mudeli parameetrid\n",
    "lda_lat.get_params()"
   ]
  },
  {
   "cell_type": "markdown",
   "metadata": {},
   "source": [
    "Vaatame teemade top sõnu."
   ]
  },
  {
   "cell_type": "code",
   "execution_count": 26,
   "metadata": {
    "collapsed": false
   },
   "outputs": [
    {
     "name": "stdout",
     "output_type": "stream",
     "text": [
      "Teema #0:\n",
      "baltic javier world fernandez latvia russia russian hand lithuania countri\n",
      "Teema #1:\n",
      "amp tallinn nato poland usa spend greec target member defens\n",
      "Teema #2:\n",
      "end help farm good tallinn fur sign plz news christma\n",
      "\n"
     ]
    }
   ],
   "source": [
    "tf_feature_names = tfest.get_feature_names()\n",
    "print_top_sonad(lda_est, tf_feature_names, 10)\n",
    "teemad_est=['Balti','Nato','Karusnahk']"
   ]
  },
  {
   "cell_type": "markdown",
   "metadata": {},
   "source": [
    "Esimene teema tundub olevat seotud lähinaabritega teine NATOga ja kolmas karusnahaga. See, et eri paketi puhul mudel eri tulemuse annab on normaalne. Kui jätta muutuja random_state määramata, saame iga kord, kui samade andmetega mudeli loome, uued teemad, kuna algoritm kasutab teemade leidmisel juhuslikkust."
   ]
  },
  {
   "cell_type": "code",
   "execution_count": 30,
   "metadata": {
    "collapsed": false
   },
   "outputs": [
    {
     "name": "stdout",
     "output_type": "stream",
     "text": [
      "Teema #0:\n",
      "unifil dive border normal toner femal smartcountri easili grow saw\n",
      "Teema #1:\n",
      "tree reunion recommend andrey telenetucicxwc andrew teddybear snow ezi reunit\n",
      "Teema #2:\n",
      "recommend enjoy leav museum hay concentr classi scrap photographi instal\n",
      "\n"
     ]
    }
   ],
   "source": [
    "print_top_sonad(lda_lat, tf_feature_names, 10)\n",
    "teemad_lat=['riik','puhkus','vaba aeg']"
   ]
  },
  {
   "cell_type": "markdown",
   "metadata": {},
   "source": [
    "Esimene teema tundub olevat seotud riigiga, teine talvepuhkusega, kolmas vaba aja veetmisega."
   ]
  },
  {
   "cell_type": "code",
   "execution_count": 32,
   "metadata": {
    "collapsed": true
   },
   "outputs": [],
   "source": [
    "ldavis_est=pyLDAvis.sklearn.prepare(lda_est, tfsest, tfest)"
   ]
  },
  {
   "cell_type": "code",
   "execution_count": 33,
   "metadata": {
    "collapsed": false
   },
   "outputs": [
    {
     "data": {
      "text/html": [
       "\n",
       "<link rel=\"stylesheet\" type=\"text/css\" href=\"https://cdn.rawgit.com/bmabey/pyLDAvis/files/ldavis.v1.0.0.css\">\n",
       "\n",
       "\n",
       "<div id=\"ldavis_el522021317531140241701529358\"></div>\n",
       "<script type=\"text/javascript\">\n",
       "\n",
       "var ldavis_el522021317531140241701529358_data = {\"lambda.step\": 0.01, \"topic.order\": [1, 3, 2], \"R\": 30, \"tinfo\": {\"loglift\": [30.0, 29.0, 28.0, 27.0, 26.0, 25.0, 24.0, 23.0, 22.0, 21.0, 20.0, 19.0, 18.0, 17.0, 16.0, 15.0, 14.0, 13.0, 12.0, 11.0, 10.0, 9.0, 8.0, 7.0, 6.0, 5.0, 4.0, 3.0, 2.0, 1.0, 1.0516, 1.0515, 1.0511, 1.0506, 1.0505, 1.0499, 1.0484, 1.0478, 1.0467, 1.0467, 1.045, 1.0448, 1.0436, 1.0422, 1.042, 1.041, 1.0409, 1.0405, 1.0404, 1.0404, 1.0402, 1.0379, 1.0374, 1.0373, 1.0369, 1.0369, 1.0369, 1.0369, 1.0369, 1.0366, 1.0042, 0.9317, 1.0191, 0.8587, 0.7939, 0.8859, 0.9691, 0.4117, -0.6251, 1.078, 1.0773, 1.0772, 1.0771, 1.0771, 1.0768, 1.0765, 1.0718, 1.0703, 1.068, 1.0678, 1.0676, 1.0669, 1.0661, 1.0637, 1.063, 1.0627, 1.0626, 1.062, 1.0617, 1.0613, 1.061, 1.0602, 1.0588, 1.0581, 1.055, 1.0546, 1.0538, 1.0521, 1.0521, 1.052, 1.0494, 0.2986, 0.6545, -0.0811, 0.4768, -0.677, 1.1492, 1.1483, 1.1478, 1.1475, 1.1474, 1.1474, 1.1469, 1.1445, 1.1437, 1.1372, 1.1314, 1.1312, 1.1307, 1.1296, 1.1292, 1.1279, 1.1279, 1.1279, 1.1261, 1.1234, 1.1225, 1.1219, 1.1209, 1.1206, 1.1193, 1.118, 1.1178, 1.1176, 1.1173, 1.1173, 1.0092, 1.1126, 1.1119, 0.7791, 0.714, 0.8692, 0.5451, 0.8491, 0.9521, 0.5572, 0.5565, 0.6429, 0.0973], \"Freq\": [100.0, 93.0, 93.0, 89.0, 84.0, 83.0, 83.0, 85.0, 82.0, 76.0, 81.0, 77.0, 74.0, 179.0, 74.0, 67.0, 87.0, 63.0, 60.0, 60.0, 59.0, 93.0, 56.0, 119.0, 60.0, 59.0, 71.0, 52.0, 51.0, 46.0, 93.0077062119615, 100.26633839912859, 85.33877997635082, 88.92029116686761, 80.59866936982799, 74.0611900668355, 60.33551543794543, 58.608808261376026, 52.05555182079271, 51.0706108416924, 44.69607779513817, 47.31634816615446, 41.53333818698792, 37.235471639937536, 36.12373504450729, 33.4201316039338, 33.02007732854652, 33.125538908353164, 32.17343124199539, 32.17341187353001, 31.78416955585483, 28.491345948590773, 27.784987363839576, 27.500380822636057, 26.692325624637107, 26.692330075585588, 26.65970390974126, 26.659705170823283, 26.659713573824405, 29.040902649382954, 83.02902950467328, 82.69585604777397, 30.863791580179885, 65.178163028236, 62.995899836143494, 43.49314190966648, 31.027115485003897, 29.772035745074874, 30.671113331146124, 92.63070289155881, 83.4227174985424, 81.73940436047873, 84.01348580800885, 83.36614526317724, 76.53535334077941, 74.26590640542241, 47.73042517746017, 40.60486831580498, 40.397733778232684, 34.41692765179304, 34.64510959637697, 32.8334610548839, 41.490475469176594, 32.15927424664271, 26.980263100075973, 26.94807291581317, 31.993027837375646, 26.077874292870217, 26.071795937166353, 25.077752842794933, 24.136730941005553, 23.252346522082807, 25.28759734078689, 22.91405827035613, 19.59673064569752, 18.94289981573227, 18.277945798785517, 17.317736451121107, 21.399168730680216, 17.560368256720245, 17.97226471241524, 81.90204288979427, 32.82651759893193, 37.18355972194341, 23.701209013449493, 28.35826588642163, 76.12231343593628, 66.81828725012275, 62.597003568453225, 60.10390582318753, 59.73934350483573, 59.374993919034516, 56.08220093953183, 45.691073864639755, 42.614396369530745, 31.063197628459648, 22.206904712379618, 21.56815672195278, 22.860797270423863, 20.845538168751407, 21.408181698281062, 19.05590075792824, 19.055895391086196, 19.05586817768875, 18.036740440789046, 16.923245941203522, 21.894743433106715, 16.566538933779935, 15.265342783570201, 16.229657469612174, 14.806452941491749, 16.325321010448015, 16.116690772082066, 13.961094428404262, 13.86144114897523, 13.861425762352553, 61.828254023985814, 14.897687677729754, 14.389780546944417, 81.72280780122846, 105.98361883465275, 34.91297545177748, 97.45580137569337, 24.536580076112468, 19.895320088398407, 25.206212026152052, 19.92597718227389, 18.821405179626797, 19.689332881718332], \"Category\": [\"Default\", \"Default\", \"Default\", \"Default\", \"Default\", \"Default\", \"Default\", \"Default\", \"Default\", \"Default\", \"Default\", \"Default\", \"Default\", \"Default\", \"Default\", \"Default\", \"Default\", \"Default\", \"Default\", \"Default\", \"Default\", \"Default\", \"Default\", \"Default\", \"Default\", \"Default\", \"Default\", \"Default\", \"Default\", \"Default\", \"Topic1\", \"Topic1\", \"Topic1\", \"Topic1\", \"Topic1\", \"Topic1\", \"Topic1\", \"Topic1\", \"Topic1\", \"Topic1\", \"Topic1\", \"Topic1\", \"Topic1\", \"Topic1\", \"Topic1\", \"Topic1\", \"Topic1\", \"Topic1\", \"Topic1\", \"Topic1\", \"Topic1\", \"Topic1\", \"Topic1\", \"Topic1\", \"Topic1\", \"Topic1\", \"Topic1\", \"Topic1\", \"Topic1\", \"Topic1\", \"Topic1\", \"Topic1\", \"Topic1\", \"Topic1\", \"Topic1\", \"Topic1\", \"Topic1\", \"Topic1\", \"Topic1\", \"Topic2\", \"Topic2\", \"Topic2\", \"Topic2\", \"Topic2\", \"Topic2\", \"Topic2\", \"Topic2\", \"Topic2\", \"Topic2\", \"Topic2\", \"Topic2\", \"Topic2\", \"Topic2\", \"Topic2\", \"Topic2\", \"Topic2\", \"Topic2\", \"Topic2\", \"Topic2\", \"Topic2\", \"Topic2\", \"Topic2\", \"Topic2\", \"Topic2\", \"Topic2\", \"Topic2\", \"Topic2\", \"Topic2\", \"Topic2\", \"Topic2\", \"Topic2\", \"Topic2\", \"Topic2\", \"Topic2\", \"Topic2\", \"Topic2\", \"Topic3\", \"Topic3\", \"Topic3\", \"Topic3\", \"Topic3\", \"Topic3\", \"Topic3\", \"Topic3\", \"Topic3\", \"Topic3\", \"Topic3\", \"Topic3\", \"Topic3\", \"Topic3\", \"Topic3\", \"Topic3\", \"Topic3\", \"Topic3\", \"Topic3\", \"Topic3\", \"Topic3\", \"Topic3\", \"Topic3\", \"Topic3\", \"Topic3\", \"Topic3\", \"Topic3\", \"Topic3\", \"Topic3\", \"Topic3\", \"Topic3\", \"Topic3\", \"Topic3\", \"Topic3\", \"Topic3\", \"Topic3\", \"Topic3\", \"Topic3\", \"Topic3\", \"Topic3\", \"Topic3\", \"Topic3\", \"Topic3\"], \"Term\": [\"baltic\", \"end\", \"javier\", \"world\", \"help\", \"farm\", \"good\", \"fernandez\", \"fur\", \"poland\", \"russian\", \"sign\", \"plz\", \"tallinn\", \"hand\", \"usa\", \"latvia\", \"spend\", \"target\", \"member\", \"defens\", \"russia\", \"_org\", \"nato\", \"affair\", \"watch\", \"greec\", \"total\", \"lo\", \"onlin\", \"javier\", \"baltic\", \"fernandez\", \"world\", \"russian\", \"hand\", \"affair\", \"watch\", \"total\", \"lo\", \"state\", \"new\", \"nation\", \"soviet\", \"step\", \"right\", \"joke\", \"abus\", \"neutral\", \"meddl\", \"secur\", \"network\", \"tini\", \"attack\", \"tall\", \"stand\", \"electr\", \"decid\", \"disconnect\", \"cyber\", \"latvia\", \"russia\", \"bring\", \"lithuania\", \"countri\", \"don\", \"say\", \"finland\", \"amp\", \"end\", \"farm\", \"fur\", \"help\", \"good\", \"sign\", \"plz\", \"news\", \"complet\", \"day\", \"yesterday\", \"travel\", \"song\", \"christma\", \"support\", \"construct\", \"project\", \"citizen\", \"happi\", \"sri\", \"armi\", \"presenc\", \"mark\", \"lanka\", \"deal\", \"war\", \"number\", \"gear\", \"deter\", \"itun\", \"militari\", \"citi\", \"tallinn\", \"love\", \"nato\", \"putin\", \"amp\", \"poland\", \"usa\", \"spend\", \"target\", \"member\", \"defens\", \"_org\", \"onlin\", \"shop\", \"just\", \"street\", \"set\", \"town\", \"play\", \"drive\", \"self\", \"minibus\", \"roam\", \"busi\", \"let\", \"live\", \"resid\", \"season\", \"presid\", \"consid\", \"group\", \"know\", \"includ\", \"hamburg\", \"khlexpans\", \"greec\", \"dutch\", \"belgium\", \"nato\", \"amp\", \"ukrain\", \"tallinn\", \"like\", \"start\", \"old\", \"estonian\", \"time\", \"finland\"], \"Total\": [100.0, 93.0, 93.0, 89.0, 84.0, 83.0, 83.0, 85.0, 82.0, 76.0, 81.0, 77.0, 74.0, 179.0, 74.0, 67.0, 87.0, 63.0, 60.0, 60.0, 59.0, 93.0, 56.0, 119.0, 60.0, 59.0, 71.0, 52.0, 51.0, 46.0, 93.56718290642095, 100.88461099247745, 85.89819890032614, 89.5466609784552, 81.17791178768633, 74.64000150083655, 60.89696835694539, 59.18622306020886, 52.62701993980851, 51.63181995866501, 45.2631437303076, 47.9278131425111, 42.11884720880887, 37.8163259688067, 36.695045218567714, 33.98158320680865, 33.57926339745049, 33.70006338912143, 32.73253548286976, 32.7325413826067, 32.34506553022589, 29.058370693449994, 28.352176980956575, 28.065105212709142, 27.251422365934513, 27.251428240978377, 27.218739256550755, 27.21876678526333, 27.218785408332312, 29.658230410757838, 87.58475438418846, 93.79459747844464, 32.0762877731394, 79.52254062171642, 82.01181679130003, 51.64262531284789, 33.899181637169505, 56.79974546248637, 165.0129980522205, 93.19285646197005, 83.9908903972214, 82.30156499484272, 84.59768214431601, 83.9500916449794, 77.09754735522338, 74.82809353652395, 48.317453760342005, 41.16772092588916, 41.05161796764386, 34.980234221006306, 35.219206922876154, 33.400822165226465, 42.24389362959072, 32.821746205248566, 27.555102410707928, 27.530808890129055, 32.68621034589375, 26.660453125080124, 26.662956050405658, 25.656161065673064, 24.70000106113311, 23.81475572884565, 25.935000095242213, 23.517087863956135, 20.175471118863605, 19.508743616852875, 18.840451075339214, 17.879806466116793, 22.09495193547785, 18.133233199767258, 18.606321469834374, 179.6448495894216, 50.44126733696238, 119.22474345016396, 43.501838148672384, 165.0129980522205, 76.69850532243781, 67.38550280217875, 63.15709010324327, 60.66102732229646, 60.297395497675346, 59.932877308183336, 56.638687890113545, 46.25205492469367, 43.17456587444027, 31.675736299269406, 22.777199629442073, 22.12659649698474, 23.463167792429047, 21.419502218537865, 22.005344380496723, 19.612928499592286, 19.61295559688795, 19.612953039114707, 18.59857270781009, 17.496167754834385, 22.657866822676393, 17.153808901506594, 15.822577330074543, 16.827563327704006, 15.371924773008663, 16.970351364724394, 16.756181442113604, 14.518424366444405, 14.418744014164155, 14.418730026333094, 71.65581684118067, 15.569260003995797, 15.048945260599911, 119.22474345016396, 165.0129980522205, 46.54348517044215, 179.6448495894216, 33.37340539037116, 24.413593142257227, 45.90901616240729, 36.31753582046687, 31.46327565498663, 56.79974546248637], \"logprob\": [30.0, 29.0, 28.0, 27.0, 26.0, 25.0, 24.0, 23.0, 22.0, 21.0, 20.0, 19.0, 18.0, 17.0, 16.0, 15.0, 14.0, 13.0, 12.0, 11.0, 10.0, 9.0, 8.0, 7.0, 6.0, 5.0, 4.0, 3.0, 2.0, 1.0, -3.9745, -3.8994, -4.0606, -4.0195, -4.1177, -4.2023, -4.4073, -4.4363, -4.5549, -4.574, -4.7073, -4.6504, -4.7807, -4.89, -4.9203, -4.9981, -5.0101, -5.0069, -5.0361, -5.0361, -5.0482, -5.1576, -5.1827, -5.193, -5.2228, -5.2228, -5.2241, -5.2241, -5.2241, -5.1385, -4.088, -4.092, -5.0776, -4.3301, -4.3641, -4.7346, -5.0724, -5.1136, -5.0839, -3.9522, -4.0569, -4.0773, -4.0498, -4.0575, -4.143, -4.1731, -4.6152, -4.7769, -4.782, -4.9422, -4.9356, -4.9893, -4.7553, -5.0101, -5.1857, -5.1869, -5.0153, -5.2197, -5.2199, -5.2588, -5.2971, -5.3344, -5.2505, -5.349, -5.5054, -5.5394, -5.5751, -5.6291, -5.4174, -5.6151, -5.592, -4.0753, -4.9896, -4.8649, -5.3153, -5.1359, -4.0758, -4.2062, -4.2714, -4.3121, -4.3181, -4.3243, -4.3813, -4.5862, -4.6559, -4.9721, -5.3077, -5.3369, -5.2787, -5.371, -5.3444, -5.4608, -5.4608, -5.4608, -5.5157, -5.5794, -5.3219, -5.6007, -5.6825, -5.6213, -5.7131, -5.6154, -5.6283, -5.7719, -5.779, -5.779, -4.2838, -5.7069, -5.7416, -4.0048, -3.7448, -4.8553, -3.8287, -5.208, -5.4176, -5.181, -5.4161, -5.4731, -5.4281]}, \"token.table\": {\"Topic\": [3, 1, 1, 1, 2, 3, 2, 1, 1, 3, 1, 3, 3, 2, 2, 2, 2, 3, 2, 1, 2, 3, 1, 2, 2, 1, 3, 2, 1, 1, 3, 3, 3, 1, 2, 2, 3, 2, 1, 1, 2, 3, 2, 2, 2, 2, 3, 3, 3, 1, 2, 2, 3, 2, 1, 1, 3, 3, 3, 2, 1, 2, 3, 1, 2, 3, 1, 2, 3, 1, 2, 3, 2, 1, 3, 2, 3, 1, 2, 3, 1, 1, 1, 2, 2, 1, 3, 3, 3, 2, 3, 2, 3, 2, 1, 2, 3, 1, 3, 1, 3, 1, 1, 2, 3, 1, 3, 3, 3, 2, 2, 1, 3, 2, 1, 1, 3, 1, 1, 3, 2, 1, 2, 3, 3, 2, 3, 1, 1, 3, 2, 1, 3, 3, 2, 1, 1, 2], \"Term\": [\"_org\", \"abus\", \"affair\", \"amp\", \"amp\", \"amp\", \"armi\", \"attack\", \"baltic\", \"belgium\", \"bring\", \"bring\", \"busi\", \"christma\", \"citi\", \"citizen\", \"complet\", \"consid\", \"construct\", \"countri\", \"countri\", \"countri\", \"cyber\", \"day\", \"deal\", \"decid\", \"defens\", \"deter\", \"disconnect\", \"don\", \"don\", \"drive\", \"dutch\", \"electr\", \"end\", \"estonian\", \"estonian\", \"farm\", \"fernandez\", \"finland\", \"finland\", \"finland\", \"fur\", \"gear\", \"good\", \"greec\", \"greec\", \"group\", \"hamburg\", \"hand\", \"happi\", \"help\", \"includ\", \"itun\", \"javier\", \"joke\", \"just\", \"khlexpans\", \"know\", \"lanka\", \"latvia\", \"latvia\", \"let\", \"like\", \"like\", \"like\", \"lithuania\", \"lithuania\", \"live\", \"lo\", \"love\", \"love\", \"mark\", \"meddl\", \"member\", \"militari\", \"minibus\", \"nation\", \"nato\", \"nato\", \"network\", \"neutral\", \"new\", \"news\", \"number\", \"old\", \"old\", \"onlin\", \"play\", \"plz\", \"poland\", \"presenc\", \"presid\", \"project\", \"putin\", \"putin\", \"resid\", \"right\", \"roam\", \"russia\", \"russia\", \"russian\", \"say\", \"say\", \"season\", \"secur\", \"self\", \"set\", \"shop\", \"sign\", \"song\", \"soviet\", \"spend\", \"sri\", \"stand\", \"start\", \"start\", \"state\", \"step\", \"street\", \"support\", \"tall\", \"tallinn\", \"tallinn\", \"target\", \"time\", \"time\", \"tini\", \"total\", \"town\", \"travel\", \"ukrain\", \"ukrain\", \"usa\", \"war\", \"watch\", \"world\", \"yesterday\"], \"Freq\": [0.9887234695239995, 0.9792266447383771, 0.9852707223176063, 0.18786398869130086, 0.16968360268891688, 0.6423736387508997, 0.9744248149988822, 0.997680207780598, 0.9912314575654814, 0.9302977555944612, 0.9664459995884973, 0.031175677406080557, 0.967816201962706, 0.9705544749142297, 0.96741314661163, 0.9790061209717463, 0.995925911803787, 0.9758049314903153, 0.9798548231672616, 0.7681819823638287, 0.2072872015902395, 0.024386729598851707, 0.9778061468387851, 0.9743830323941745, 0.9780122493504538, 0.9919626488962838, 0.9844346317066283, 0.9507932891900103, 0.9919619701963138, 0.8326455082310128, 0.15491079222902565, 0.9543136265848329, 0.963436926106334, 0.9919636521556335, 0.9979305660402334, 0.4405585246503191, 0.5506981558128988, 0.9882024063260295, 0.9895434489683727, 0.5281713809758818, 0.1232399888943724, 0.35211425398392115, 0.996335853457202, 0.9553911383555299, 0.9886826610148648, 0.13955601151214553, 0.8652472713753022, 0.9428207852701609, 0.9709583571389572, 0.9914254891751392, 0.9752272355619185, 0.9929350056743113, 0.9642919676846884, 0.9504433438608351, 0.9939382282462409, 0.9827493715215185, 0.9786670689235094, 0.9709592990805458, 0.9548714935603956, 0.9639483288294363, 0.9476535109743239, 0.045670048721654165, 0.9716413467344991, 0.23971182761913012, 0.029963978452391266, 0.7490994613097817, 0.8173783117569243, 0.17605071330149138, 0.9709651915679022, 0.9877629733143083, 0.6542262267034326, 0.3370256319381319, 0.9657877772032414, 0.9776203939057432, 0.9950678550006888, 0.9926525403219891, 0.9687474132157211, 0.9971782891345607, 0.3103382647702323, 0.6877766948961905, 0.9635777688771601, 0.977620570112782, 0.9806414463403058, 0.9934298325835504, 0.9739222767573105, 0.43564427364873587, 0.5445553420609198, 0.9945504059202547, 0.9804149408208562, 0.9889333872161296, 0.9908928430938606, 0.9716598772850012, 0.9508209648902911, 0.980719458979668, 0.43676315320436304, 0.551700825100248, 0.9910335423234728, 0.9711142591316352, 0.968747539552444, 0.8849123748206777, 0.1172775436509332, 0.9978083719601997, 0.9144763531993164, 0.08849771159993385, 0.9480124310398509, 0.9893317411923797, 0.9687487516407849, 0.9942785372796946, 0.995956742797416, 0.9987347541060685, 0.9879996317682336, 0.9784133982375744, 0.9975127083438063, 0.9751356882878119, 0.9907737591308957, 0.16384314986704857, 0.8192157493352429, 0.9941863576274, 0.9810588809898504, 0.965878174574303, 0.9749633611779875, 0.9907739727285281, 0.45645616997877225, 0.5399542498529379, 0.9891029322865836, 0.3813970335316346, 0.6038786364250882, 0.9875784853772208, 0.9880855891037407, 0.9802597928580429, 0.9937759267732468, 0.23633812465306414, 0.7519849420779313, 0.9942791433446678, 0.9913027498674098, 0.9968536079752982, 0.9938952388343467, 0.9719774826316727]}, \"plot.opts\": {\"xlab\": \"PC1\", \"ylab\": \"PC2\"}, \"mdsDat\": {\"cluster\": [1, 1, 1], \"y\": [-0.050985600189288556, -0.1651248309520213, 0.21611043114130976], \"x\": [-0.2540377480149179, 0.17798058325028712, 0.07605716476463065], \"topics\": [1, 2, 3], \"Freq\": [34.727218344192046, 33.82153293222739, 31.451248723580566]}};\n",
       "\n",
       "function LDAvis_load_lib(url, callback){\n",
       "  var s = document.createElement('script');\n",
       "  s.src = url;\n",
       "  s.async = true;\n",
       "  s.onreadystatechange = s.onload = callback;\n",
       "  s.onerror = function(){console.warn(\"failed to load library \" + url);};\n",
       "  document.getElementsByTagName(\"head\")[0].appendChild(s);\n",
       "}\n",
       "\n",
       "if(typeof(LDAvis) !== \"undefined\"){\n",
       "   // already loaded: just create the visualization\n",
       "   !function(LDAvis){\n",
       "       new LDAvis(\"#\" + \"ldavis_el522021317531140241701529358\", ldavis_el522021317531140241701529358_data);\n",
       "   }(LDAvis);\n",
       "}else if(typeof define === \"function\" && define.amd){\n",
       "   // require.js is available: use it to load d3/LDAvis\n",
       "   require.config({paths: {d3: \"https://cdnjs.cloudflare.com/ajax/libs/d3/3.5.5/d3.min\"}});\n",
       "   require([\"d3\"], function(d3){\n",
       "      window.d3 = d3;\n",
       "      LDAvis_load_lib(\"https://cdn.rawgit.com/bmabey/pyLDAvis/files/ldavis.v1.0.0.js\", function(){\n",
       "        new LDAvis(\"#\" + \"ldavis_el522021317531140241701529358\", ldavis_el522021317531140241701529358_data);\n",
       "      });\n",
       "    });\n",
       "}else{\n",
       "    // require.js not available: dynamically load d3 & LDAvis\n",
       "    LDAvis_load_lib(\"https://cdnjs.cloudflare.com/ajax/libs/d3/3.5.5/d3.min.js\", function(){\n",
       "         LDAvis_load_lib(\"https://cdn.rawgit.com/bmabey/pyLDAvis/files/ldavis.v1.0.0.js\", function(){\n",
       "                 new LDAvis(\"#\" + \"ldavis_el522021317531140241701529358\", ldavis_el522021317531140241701529358_data);\n",
       "            })\n",
       "         });\n",
       "}\n",
       "</script>"
      ],
      "text/plain": [
       "<IPython.core.display.HTML object>"
      ]
     },
     "execution_count": 33,
     "metadata": {},
     "output_type": "execute_result"
    }
   ],
   "source": [
    "pyLDAvis.display(ldavis_est) "
   ]
  },
  {
   "cell_type": "code",
   "execution_count": 34,
   "metadata": {
    "collapsed": true
   },
   "outputs": [],
   "source": [
    "ldavis_lat=pyLDAvis.sklearn.prepare(lda_lat, tfslat, tflat)"
   ]
  },
  {
   "cell_type": "code",
   "execution_count": 35,
   "metadata": {
    "collapsed": false
   },
   "outputs": [
    {
     "data": {
      "text/html": [
       "\n",
       "<link rel=\"stylesheet\" type=\"text/css\" href=\"https://cdn.rawgit.com/bmabey/pyLDAvis/files/ldavis.v1.0.0.css\">\n",
       "\n",
       "\n",
       "<div id=\"ldavis_el522021317606224726844442303\"></div>\n",
       "<script type=\"text/javascript\">\n",
       "\n",
       "var ldavis_el522021317606224726844442303_data = {\"lambda.step\": 0.01, \"topic.order\": [3, 2, 1], \"R\": 30, \"tinfo\": {\"loglift\": [30.0, 29.0, 28.0, 27.0, 26.0, 25.0, 24.0, 23.0, 22.0, 21.0, 20.0, 19.0, 18.0, 17.0, 16.0, 15.0, 14.0, 13.0, 12.0, 11.0, 10.0, 9.0, 8.0, 7.0, 6.0, 5.0, 4.0, 3.0, 2.0, 1.0, 1.0556, 1.0554, 1.0548, 1.0534, 1.0531, 1.053, 1.0529, 1.0529, 1.0529, 1.0529, 1.0529, 1.0529, 1.0513, 1.0503, 1.0503, 1.0503, 1.0498, 1.0492, 1.0492, 1.0492, 1.0489, 1.0483, 1.0466, 1.0465, 1.0454, 1.0452, 1.0451, 1.0443, 1.0442, 1.0439, 1.0352, 1.0289, 0.5944, 0.4578, 0.5637, 0.2291, 1.0588, 1.0555, 1.0555, 1.0548, 1.0532, 1.0532, 1.0514, 1.0513, 1.0511, 1.0509, 1.0508, 1.0508, 1.0507, 1.0494, 1.0483, 1.0478, 1.0478, 1.0478, 1.0478, 1.0461, 1.0453, 1.0448, 1.0444, 1.0443, 1.0443, 1.0443, 1.0443, 1.0443, 1.0442, 1.044, 1.0378, 0.4883, 0.2683, 0.6088, 0.7078, 0.622, 0.3056, 0.0697, 1.1665, 1.1647, 1.1641, 1.1639, 1.1634, 1.1634, 1.1632, 1.1618, 1.1573, 1.1563, 1.1552, 1.1546, 1.154, 1.154, 1.154, 1.1533, 1.153, 1.1492, 1.1491, 1.1475, 1.1439, 1.1434, 1.1424, 1.1413, 1.1413, 1.1413, 1.1413, 1.1385, 1.1385, 1.138, 1.1274, 1.1183, 1.0077, 0.9486, 0.8606, 0.5376, 0.8541, 0.6647, 0.308, 0.5206, 0.6844], \"Freq\": [138.0, 117.0, 111.0, 96.0, 95.0, 237.0, 76.0, 76.0, 81.0, 73.0, 63.0, 69.0, 69.0, 68.0, 67.0, 67.0, 67.0, 67.0, 67.0, 67.0, 74.0, 61.0, 154.0, 53.0, 59.0, 59.0, 58.0, 51.0, 53.0, 49.0, 110.99956615727667, 94.71494641431431, 95.892787267481, 72.58231438855091, 69.08730401797406, 68.36739408230457, 66.56329203860682, 66.5632786469121, 66.56327769253161, 66.5632931305359, 66.56327982921974, 66.56328035040099, 58.96368063734173, 51.02710998358501, 51.027078413759135, 51.02707088309318, 50.847489943186034, 50.38110374905355, 46.25161849152629, 46.25159872278785, 45.40178244209469, 43.05973187678909, 40.732985022587805, 37.895492175769405, 35.23643354840829, 34.93362677106345, 34.85407077014551, 33.24408594429838, 33.7412687177436, 33.13857093914599, 79.71047253499326, 72.20272940986007, 96.99070081870524, 130.03245292163209, 50.78285222541799, 61.73568720538737, 137.66290976407805, 75.8706687413532, 75.8706183837794, 68.93852321881543, 58.726174632047794, 58.37529184442237, 61.011601677566894, 48.02683702785801, 116.52933592192598, 47.25755042466584, 46.205757162424135, 46.205729867446315, 47.84147832390792, 43.755574916140546, 39.111494933647975, 37.04197479768531, 37.04194884844314, 37.041928433058025, 37.04188398566687, 36.14037290605978, 33.472551786666784, 30.866229227275685, 32.52171911659476, 30.066967241924086, 30.066907384743036, 30.066910811404973, 29.95621956725939, 29.956179587072018, 29.835090343789563, 29.577040080242472, 33.126495795562825, 79.86463597509999, 107.41002221216365, 56.70074270770138, 43.57164950649603, 43.0325511699117, 49.99096393317396, 57.29478050450168, 63.080004979142046, 52.77268238568654, 50.699325727366, 49.108507981312755, 47.05426389735957, 47.05425966609018, 46.386147284899565, 41.938896707151656, 33.42847652011601, 31.076956587204016, 28.491697971438473, 27.35754427166133, 26.522981198931163, 26.522957139018526, 26.52297553094079, 25.687053956616623, 25.487425502241642, 22.031727705790658, 22.079155785240108, 20.867130942789146, 22.019166745035392, 52.10951857980361, 17.359729793182, 16.656637379497955, 16.656634886799818, 16.656612486063278, 16.656633486262074, 15.903584623542088, 29.097732294013515, 15.176230813909582, 20.649732594133795, 24.385763993570357, 45.68475051630676, 30.726768590697148, 40.53558275820991, 56.31668580337618, 29.66602759431128, 31.693678222604255, 36.80087056538162, 28.46042219374257, 24.892459369111943], \"Category\": [\"Default\", \"Default\", \"Default\", \"Default\", \"Default\", \"Default\", \"Default\", \"Default\", \"Default\", \"Default\", \"Default\", \"Default\", \"Default\", \"Default\", \"Default\", \"Default\", \"Default\", \"Default\", \"Default\", \"Default\", \"Default\", \"Default\", \"Default\", \"Default\", \"Default\", \"Default\", \"Default\", \"Default\", \"Default\", \"Default\", \"Topic1\", \"Topic1\", \"Topic1\", \"Topic1\", \"Topic1\", \"Topic1\", \"Topic1\", \"Topic1\", \"Topic1\", \"Topic1\", \"Topic1\", \"Topic1\", \"Topic1\", \"Topic1\", \"Topic1\", \"Topic1\", \"Topic1\", \"Topic1\", \"Topic1\", \"Topic1\", \"Topic1\", \"Topic1\", \"Topic1\", \"Topic1\", \"Topic1\", \"Topic1\", \"Topic1\", \"Topic1\", \"Topic1\", \"Topic1\", \"Topic1\", \"Topic1\", \"Topic1\", \"Topic1\", \"Topic1\", \"Topic1\", \"Topic2\", \"Topic2\", \"Topic2\", \"Topic2\", \"Topic2\", \"Topic2\", \"Topic2\", \"Topic2\", \"Topic2\", \"Topic2\", \"Topic2\", \"Topic2\", \"Topic2\", \"Topic2\", \"Topic2\", \"Topic2\", \"Topic2\", \"Topic2\", \"Topic2\", \"Topic2\", \"Topic2\", \"Topic2\", \"Topic2\", \"Topic2\", \"Topic2\", \"Topic2\", \"Topic2\", \"Topic2\", \"Topic2\", \"Topic2\", \"Topic2\", \"Topic2\", \"Topic2\", \"Topic2\", \"Topic2\", \"Topic2\", \"Topic2\", \"Topic2\", \"Topic3\", \"Topic3\", \"Topic3\", \"Topic3\", \"Topic3\", \"Topic3\", \"Topic3\", \"Topic3\", \"Topic3\", \"Topic3\", \"Topic3\", \"Topic3\", \"Topic3\", \"Topic3\", \"Topic3\", \"Topic3\", \"Topic3\", \"Topic3\", \"Topic3\", \"Topic3\", \"Topic3\", \"Topic3\", \"Topic3\", \"Topic3\", \"Topic3\", \"Topic3\", \"Topic3\", \"Topic3\", \"Topic3\", \"Topic3\", \"Topic3\", \"Topic3\", \"Topic3\", \"Topic3\", \"Topic3\", \"Topic3\", \"Topic3\", \"Topic3\", \"Topic3\", \"Topic3\", \"Topic3\"], \"Term\": [\"video\", \"russia\", \"europ\", \"new\", \"holiday\", \"riga\", \"trumpleak\", \"amjoy\", \"coin\", \"christma\", \"watchcc\", \"popular\", \"trump\", \"jani\", \"rozent\", \"collector\", \"paint\", \"featur\", \"monkey\", \"princess\", \"silver\", \"state\", \"lithuania\", \"bowl\", \"use\", \"final\", \"russian\", \"uruguay\", \"onlin\", \"ford\", \"europ\", \"holiday\", \"new\", \"christma\", \"popular\", \"jani\", \"rozent\", \"collector\", \"paint\", \"featur\", \"monkey\", \"princess\", \"use\", \"exploit\", \"honeypot\", \"mssqld\", \"happi\", \"come\", \"nfl\", \"startup\", \"xma\", \"nba\", \"attack\", \"brooklyn\", \"footbal\", \"captain\", \"note\", \"fast\", \"defens\", \"increas\", \"coin\", \"silver\", \"lithuania\", \"riga\", \"market\", \"amp\", \"video\", \"trumpleak\", \"amjoy\", \"trump\", \"final\", \"russian\", \"state\", \"qualif\", \"russia\", \"olymp\", \"cnn\", \"msnbc\", \"franc\", \"play\", \"statu\", \"milda\", \"mother\", \"dub\", \"liberti\", \"sex\", \"speak\", \"biz\", \"photo\", \"extens\", \"talkin\", \"treason\", \"dworkinreport\", \"russianhack\", \"advanc\", \"decid\", \"live\", \"amp\", \"riga\", \"baltic\", \"http\", \"travel\", \"don\", \"lithuania\", \"watchcc\", \"bowl\", \"uruguay\", \"ford\", \"stanford\", \"eddi\", \"harrison\", \"air\", \"fli\", \"present\", \"deal\", \"sabr\", \"chirp\", \"msg\", \"rama\", \"agai\", \"export\", \"everi\", \"poland\", \"test\", \"best\", \"onlin\", \"airborn\", \"dynam\", \"calfex\", \"strongeurop\", \"saturdayswag\", \"million\", \"trade\", \"pressur\", \"win\", \"israel\", \"shop\", \"team\", \"watch\", \"don\", \"free\", \"good\", \"just\", \"girl\", \"game\"], \"Total\": [138.0, 117.0, 111.0, 96.0, 95.0, 237.0, 76.0, 76.0, 81.0, 73.0, 63.0, 69.0, 69.0, 68.0, 67.0, 67.0, 67.0, 67.0, 67.0, 67.0, 74.0, 61.0, 154.0, 53.0, 59.0, 59.0, 58.0, 51.0, 53.0, 49.0, 111.64054079400022, 95.28362867699883, 96.5248463773155, 73.1618862758142, 69.65846223052452, 68.93946180444298, 67.12945455367799, 67.12945039963876, 67.12946079656805, 67.1294880081978, 67.1294797224134, 67.1294848035507, 59.55711025806506, 51.59339527971243, 51.5934048095972, 51.59340716996173, 51.43652200646093, 50.997347843294676, 46.817681505983046, 46.81770611502409, 45.967881679495044, 43.62580406866752, 41.336325732151344, 38.46297761471819, 35.803567477168414, 35.50112093845583, 35.42402180916632, 33.81640299257099, 34.32312740646651, 33.72106625522633, 81.82011390510948, 74.58085574306149, 154.70412158112774, 237.7683922136343, 83.53328102211596, 141.89107258976173, 138.2438731674195, 76.43656461170683, 76.43659341138351, 69.50637492342501, 59.30151582291061, 58.95038915964836, 61.72445939420439, 48.59286644171024, 117.92164011350877, 47.830370853134376, 46.771991954112025, 46.7719946459265, 48.43390717158369, 44.353498625127564, 39.689548080084165, 37.608197814611515, 37.60818952243347, 37.60819825383583, 37.60819453770477, 36.754707461396315, 34.070221862867285, 31.432348935827527, 33.133204207066385, 30.633048351302275, 30.633050908524147, 30.633092908339346, 30.522273088272666, 30.522305879946792, 30.40116056389598, 30.143734978247483, 33.97009121942272, 141.89107258976173, 237.7683922136343, 89.29601621368822, 62.1517073940805, 66.88063929903224, 106.61164215996573, 154.70412158112774, 63.66542449577373, 53.357537630681584, 51.29193557015423, 49.693927747248644, 47.639235095981334, 47.63925971702854, 46.97113646582019, 42.52896739131246, 34.051737130345614, 31.687012101522168, 29.082370457169468, 27.943635287907473, 27.107619442777928, 27.107600640057516, 27.107636622450563, 26.271742465341983, 26.074741384935233, 22.62494072333564, 22.675983328034533, 21.46621977900699, 22.732342372454074, 53.82554341596896, 17.94881200763018, 17.24139954389849, 17.241397820308997, 17.241393212247065, 17.24142887482654, 16.507865046202646, 30.203714757500613, 15.760856467332008, 21.672079134934883, 25.82920379302107, 54.045010514604016, 38.56346750909028, 55.555129696752786, 106.61164215996573, 40.91996652936061, 52.837878204240035, 87.64208501592688, 54.79785693534836, 40.687178834262326], \"logprob\": [30.0, 29.0, 28.0, 27.0, 26.0, 25.0, 24.0, 23.0, 22.0, 21.0, 20.0, 19.0, 18.0, 17.0, 16.0, 15.0, 14.0, 13.0, 12.0, 11.0, 10.0, 9.0, 8.0, 7.0, 6.0, 5.0, 4.0, 3.0, 2.0, 1.0, -3.8731, -4.0317, -4.0194, -4.2979, -4.3472, -4.3577, -4.3844, -4.3844, -4.3844, -4.3844, -4.3844, -4.3844, -4.5057, -4.6502, -4.6502, -4.6502, -4.6538, -4.663, -4.7485, -4.7485, -4.767, -4.82, -4.8756, -4.9478, -5.0205, -5.0291, -5.0314, -5.0787, -5.0639, -5.0819, -4.2042, -4.3031, -4.008, -3.7148, -4.655, -4.4597, -3.6562, -4.2519, -4.2519, -4.3477, -4.5081, -4.5141, -4.4699, -4.7092, -3.8228, -4.7253, -4.7479, -4.7479, -4.7131, -4.8023, -4.9145, -4.9689, -4.9689, -4.9689, -4.9689, -4.9936, -5.0702, -5.1513, -5.0991, -5.1775, -5.1775, -5.1775, -5.1812, -5.1812, -5.1853, -5.194, -5.0806, -4.2006, -3.9043, -4.5432, -4.8066, -4.819, -4.6691, -4.5328, -4.3238, -4.5022, -4.5423, -4.5741, -4.6169, -4.6169, -4.6312, -4.732, -4.9588, -5.0317, -5.1186, -5.1592, -5.1902, -5.1902, -5.1902, -5.2222, -5.23, -5.3757, -5.3735, -5.43, -5.3763, -4.5148, -5.614, -5.6554, -5.6554, -5.6554, -5.6554, -5.7016, -5.0975, -5.7484, -5.4405, -5.2742, -4.6464, -5.043, -4.766, -4.4372, -5.0782, -5.0121, -4.8627, -5.1197, -5.2536]}, \"token.table\": {\"Topic\": [2, 3, 3, 3, 2, 1, 2, 1, 1, 2, 3, 2, 3, 1, 3, 1, 3, 1, 2, 1, 3, 1, 1, 3, 2, 1, 2, 3, 2, 2, 3, 3, 1, 3, 1, 3, 2, 1, 1, 2, 3, 1, 3, 2, 2, 3, 2, 3, 2, 3, 2, 3, 1, 3, 1, 1, 2, 3, 1, 2, 3, 1, 1, 2, 3, 2, 1, 2, 2, 1, 2, 2, 3, 1, 2, 3, 2, 1, 1, 1, 1, 1, 2, 1, 3, 1, 2, 2, 3, 1, 3, 3, 1, 2, 3, 1, 2, 1, 2, 3, 2, 2, 3, 3, 2, 1, 2, 3, 1, 3, 2, 3, 1, 2, 2, 3, 2, 2, 3, 3, 2, 3, 1, 2, 2, 2, 2, 3, 1, 2, 1, 3, 3, 2, 3, 1], \"Term\": [\"advanc\", \"agai\", \"air\", \"airborn\", \"amjoy\", \"amp\", \"amp\", \"attack\", \"baltic\", \"baltic\", \"best\", \"biz\", \"bowl\", \"brooklyn\", \"calfex\", \"captain\", \"chirp\", \"christma\", \"cnn\", \"coin\", \"coin\", \"collector\", \"come\", \"deal\", \"decid\", \"defens\", \"don\", \"don\", \"dub\", \"dworkinreport\", \"dynam\", \"eddi\", \"europ\", \"everi\", \"exploit\", \"export\", \"extens\", \"fast\", \"featur\", \"final\", \"fli\", \"footbal\", \"ford\", \"franc\", \"free\", \"free\", \"game\", \"game\", \"girl\", \"girl\", \"good\", \"good\", \"happi\", \"harrison\", \"holiday\", \"honeypot\", \"http\", \"http\", \"increas\", \"israel\", \"israel\", \"jani\", \"just\", \"just\", \"just\", \"liberti\", \"lithuania\", \"lithuania\", \"live\", \"market\", \"market\", \"milda\", \"million\", \"monkey\", \"mother\", \"msg\", \"msnbc\", \"mssqld\", \"nba\", \"new\", \"nfl\", \"note\", \"olymp\", \"onlin\", \"onlin\", \"paint\", \"photo\", \"play\", \"poland\", \"popular\", \"present\", \"pressur\", \"princess\", \"qualif\", \"rama\", \"riga\", \"riga\", \"rozent\", \"russia\", \"russia\", \"russian\", \"russianhack\", \"sabr\", \"saturdayswag\", \"sex\", \"shop\", \"shop\", \"shop\", \"silver\", \"silver\", \"speak\", \"stanford\", \"startup\", \"state\", \"statu\", \"strongeurop\", \"talkin\", \"team\", \"team\", \"test\", \"trade\", \"trade\", \"travel\", \"travel\", \"treason\", \"trump\", \"trumpleak\", \"uruguay\", \"use\", \"video\", \"watch\", \"watch\", \"watchcc\", \"win\", \"win\", \"xma\"], \"Freq\": [0.9868044325790511, 0.9896564734638188, 0.9875621858756788, 0.9471378937376561, 0.9942881623591758, 0.43695490398649406, 0.5638127793374117, 0.9918636761687372, 0.35835865200775563, 0.6383263488888147, 0.9677841218271686, 0.9862450961997714, 0.9932992104478976, 0.9879630324163715, 0.9859989414533056, 0.9858843629381573, 0.9960299190784678, 0.9977872867410239, 0.9834945675422714, 0.9777546886915808, 0.02444386721728952, 0.9980716302774996, 0.9804431429187388, 0.9627825916472831, 0.9952316798714158, 0.9905857236539106, 0.468991931715838, 0.5252709635217385, 0.9838280406380862, 0.9828887879103168, 0.9859988428848911, 0.9865812415888563, 0.9942624714154499, 0.9723782382028047, 0.9884986193194817, 0.9587822801741701, 0.9793344643979788, 0.9758577814219228, 0.9980710711188207, 0.9949155461082814, 0.9691135542859473, 0.9775562176120901, 0.9860359649819175, 0.9910412519467712, 0.2688174241811111, 0.7331384295848485, 0.3932442714982867, 0.614444174216073, 0.47447110989532554, 0.5109688875795814, 0.39744215160999463, 0.6056261357866585, 0.9915133840813323, 0.9793248250119121, 0.9970233220445424, 0.9884984367326186, 0.7079451529949551, 0.2896139262252089, 0.9786167421347605, 0.038715866273438725, 0.9291807905625294, 0.9863726553725077, 0.21679082596616908, 0.35371134762901274, 0.42217160846043456, 0.9838281378518446, 0.6270033339036325, 0.36844525806708306, 0.9714427843847513, 0.610535099016372, 0.3830808464416452, 0.9838280521281662, 0.9692349649829811, 0.9980711943106247, 0.9838282690510618, 0.9960306099574703, 0.9834945109403468, 0.9884983915094637, 0.9856551854566967, 0.9945625774397623, 0.9825347714863123, 0.9880301053491165, 0.9826392553868321, 0.01857853978866324, 0.9660840690104885, 0.9980714756973785, 0.9959797366341654, 0.9920299720183224, 0.9701894591182377, 0.9905472758163189, 0.9783188108957371, 0.951724928850849, 0.9980711187650312, 0.9877993111926949, 0.9960292878368666, 0.5467505532997646, 0.45001776310057545, 0.9980715685158074, 0.9921843004166019, 0.008480207695868392, 0.983878152914741, 0.9828877319426267, 0.966230761381436, 0.9859971655145683, 0.9794663727853368, 0.03700619133859843, 0.11101857401579528, 0.8511424007877638, 0.9653951980391215, 0.026816533278864487, 0.9685877636143688, 0.9865817514766256, 0.9825342550313101, 0.9882630094890323, 0.9826264567514646, 0.9859992049786559, 0.9793343826439439, 0.20745022470072794, 0.8038696207153208, 0.9782812351775634, 0.0331085102620255, 0.9601467975987394, 0.34389623426241395, 0.6429364379688609, 0.9793330399175266, 0.9927146981268569, 0.9942885369858713, 0.9943083534105486, 0.9906457809042268, 0.9982359206102092, 0.2700020696896466, 0.7380056571517006, 0.9895481024269633, 0.04614231951506782, 0.9689887098164243, 0.9789443923858953]}, \"plot.opts\": {\"xlab\": \"PC1\", \"ylab\": \"PC2\"}, \"mdsDat\": {\"cluster\": [1, 1, 1], \"y\": [0.06730112878443394, -0.23674028441749703, 0.16943915563306308], \"x\": [-0.2509669703815784, 0.06310824387310689, 0.18785872650847163], \"topics\": [1, 2, 3], \"Freq\": [34.59917828508691, 34.542549056346196, 30.858272658566904]}};\n",
       "\n",
       "function LDAvis_load_lib(url, callback){\n",
       "  var s = document.createElement('script');\n",
       "  s.src = url;\n",
       "  s.async = true;\n",
       "  s.onreadystatechange = s.onload = callback;\n",
       "  s.onerror = function(){console.warn(\"failed to load library \" + url);};\n",
       "  document.getElementsByTagName(\"head\")[0].appendChild(s);\n",
       "}\n",
       "\n",
       "if(typeof(LDAvis) !== \"undefined\"){\n",
       "   // already loaded: just create the visualization\n",
       "   !function(LDAvis){\n",
       "       new LDAvis(\"#\" + \"ldavis_el522021317606224726844442303\", ldavis_el522021317606224726844442303_data);\n",
       "   }(LDAvis);\n",
       "}else if(typeof define === \"function\" && define.amd){\n",
       "   // require.js is available: use it to load d3/LDAvis\n",
       "   require.config({paths: {d3: \"https://cdnjs.cloudflare.com/ajax/libs/d3/3.5.5/d3.min\"}});\n",
       "   require([\"d3\"], function(d3){\n",
       "      window.d3 = d3;\n",
       "      LDAvis_load_lib(\"https://cdn.rawgit.com/bmabey/pyLDAvis/files/ldavis.v1.0.0.js\", function(){\n",
       "        new LDAvis(\"#\" + \"ldavis_el522021317606224726844442303\", ldavis_el522021317606224726844442303_data);\n",
       "      });\n",
       "    });\n",
       "}else{\n",
       "    // require.js not available: dynamically load d3 & LDAvis\n",
       "    LDAvis_load_lib(\"https://cdnjs.cloudflare.com/ajax/libs/d3/3.5.5/d3.min.js\", function(){\n",
       "         LDAvis_load_lib(\"https://cdn.rawgit.com/bmabey/pyLDAvis/files/ldavis.v1.0.0.js\", function(){\n",
       "                 new LDAvis(\"#\" + \"ldavis_el522021317606224726844442303\", ldavis_el522021317606224726844442303_data);\n",
       "            })\n",
       "         });\n",
       "}\n",
       "</script>"
      ],
      "text/plain": [
       "<IPython.core.display.HTML object>"
      ]
     },
     "execution_count": 35,
     "metadata": {},
     "output_type": "execute_result"
    }
   ],
   "source": [
    "pyLDAvis.display(ldavis_lat) "
   ]
  },
  {
   "cell_type": "code",
   "execution_count": 36,
   "metadata": {
    "collapsed": true
   },
   "outputs": [],
   "source": [
    "#sõna dokude jagunemine\n",
    "doc_topic_distrib_est = lda_est.transform(tfsest)\n",
    "doc_topic_distrib_lat = lda_lat.transform(tfslat)"
   ]
  },
  {
   "cell_type": "markdown",
   "metadata": {},
   "source": [
    "Vaatame säutsude lõikes teemade tõenäosusi."
   ]
  },
  {
   "cell_type": "code",
   "execution_count": 37,
   "metadata": {
    "collapsed": false
   },
   "outputs": [
    {
     "data": {
      "image/png": "[encoded data removed]",
      "text/plain": [
       "<matplotlib.figure.Figure at 0x1f056d3fda0>"
      ]
     },
     "metadata": {},
     "output_type": "display_data"
    }
   ],
   "source": [
    "teema_doku_plot(doc_topic_distrib_est, n_topics_est, [1,2,3,4], teemad_est)"
   ]
  },
  {
   "cell_type": "markdown",
   "metadata": {
    "collapsed": true
   },
   "source": [
    "Vaatame esimesest säutsu."
   ]
  },
  {
   "cell_type": "code",
   "execution_count": 34,
   "metadata": {
    "collapsed": false
   },
   "outputs": [
    {
     "data": {
      "text/plain": [
       "\"RT @JRRCollins: @AviWoolf the NATO aspect is the one that concerns me regarding Turkey. It's not Estonia that scares me, it's agitators lik…\""
      ]
     },
     "execution_count": 34,
     "metadata": {},
     "output_type": "execute_result"
    }
   ],
   "source": [
    "estoniatkst[1]"
   ]
  },
  {
   "cell_type": "markdown",
   "metadata": {},
   "source": [
    "Eks siin jääb igaühel ise otsustada, kas teema sai õigesti määratud (tundub, et enam vähem). Siin tuleb arvestada, et nagu iga mudel, pole ka see täiuslik. Vaatame sama Läti mudeli puhul."
   ]
  },
  {
   "cell_type": "code",
   "execution_count": 35,
   "metadata": {
    "collapsed": false
   },
   "outputs": [
    {
     "data": {
      "image/png": "[encoded data removed]",
      "text/plain": [
       "<matplotlib.figure.Figure at 0x2190f16d320>"
      ]
     },
     "metadata": {},
     "output_type": "display_data"
    }
   ],
   "source": [
    "teema_doku_plot(doc_topic_distrib_lat, n_topics_lat, [1,2,3,4], teemad_lat)"
   ]
  },
  {
   "cell_type": "code",
   "execution_count": 36,
   "metadata": {
    "collapsed": false
   },
   "outputs": [
    {
     "data": {
      "text/plain": [
       "'RT @IIHFHockey: France beats Latvia 8-1 and advances to the Final Olympic Qualification where they will play in Japan. Story soon on https:…'"
      ]
     },
     "execution_count": 36,
     "metadata": {},
     "output_type": "execute_result"
    }
   ],
   "source": [
    "latviatkst[1]"
   ]
  },
  {
   "cell_type": "markdown",
   "metadata": {
    "collapsed": true
   },
   "source": [
    "## Kokkuvõte "
   ]
  },
  {
   "cell_type": "markdown",
   "metadata": {},
   "source": []
  }
 ],
 "metadata": {
  "anaconda-cloud": {},
  "kernelspec": {
   "display_name": "Python [Root]",
   "language": "python",
   "name": "Python [Root]"
  },
  "language_info": {
   "codemirror_mode": {
    "name": "ipython",
    "version": 3
   },
   "file_extension": ".py",
   "mimetype": "text/x-python",
   "name": "python",
   "nbconvert_exporter": "python",
   "pygments_lexer": "ipython3",
   "version": "3.5.2"
  }
 },
 "nbformat": 4,
 "nbformat_minor": 0
}
